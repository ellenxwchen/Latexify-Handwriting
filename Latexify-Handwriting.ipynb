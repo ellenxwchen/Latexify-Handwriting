{
  "nbformat": 4,
  "nbformat_minor": 0,
  "metadata": {
    "colab": {
      "name": "APS360_Project.ipynb",
      "provenance": [],
      "collapsed_sections": [],
      "toc_visible": true,
      "include_colab_link": true
    },
    "kernelspec": {
      "name": "python3",
      "display_name": "Python 3"
    },
    "accelerator": "GPU"
  },
  "cells": [
    {
      "cell_type": "markdown",
      "metadata": {
        "id": "view-in-github",
        "colab_type": "text"
      },
      "source": [
        "<a href=\"https://colab.research.google.com/github/ellenxwchen/Latexify-Handwriting/blob/master/Latexify-Handwriting.ipynb\" target=\"_parent\"><img src=\"https://colab.research.google.com/assets/colab-badge.svg\" alt=\"Open In Colab\"/></a>"
      ]
    },
    {
      "cell_type": "markdown",
      "metadata": {
        "id": "15haJbHkfw7h",
        "colab_type": "text"
      },
      "source": [
        "# Splitting the Data \n",
        "Don't run the code in this section please! "
      ]
    },
    {
      "cell_type": "code",
      "metadata": {
        "id": "YbnrGxukJSTa",
        "colab_type": "code",
        "colab": {}
      },
      "source": [
        "pip install split-folders tqdm"
      ],
      "execution_count": null,
      "outputs": []
    },
    {
      "cell_type": "code",
      "metadata": {
        "id": "ZVz1jdIkJYnT",
        "colab_type": "code",
        "colab": {}
      },
      "source": [
        "import split_folders\n",
        "##Add a shortcut to aps360 into your drive\n",
        "!unzip '/content/drive/My Drive/aps360/data/correct.zip' -d '/root/datasets'"
      ],
      "execution_count": null,
      "outputs": []
    },
    {
      "cell_type": "code",
      "metadata": {
        "id": "68cVuaxgJaYC",
        "colab_type": "code",
        "colab": {}
      },
      "source": [
        "data_dir = data_dir = '/root/datasets/correct'\n",
        "split_folders.ratio(data_dir, output='/content/drive/My Drive/aps360/data', seed=1337, ratio=(.8, .1, .1)) "
      ],
      "execution_count": null,
      "outputs": []
    },
    {
      "cell_type": "markdown",
      "metadata": {
        "id": "RPbbsI_imIHJ",
        "colab_type": "text"
      },
      "source": [
        "# Loading Data"
      ]
    },
    {
      "cell_type": "code",
      "metadata": {
        "id": "dbqxDHqh1ij_",
        "colab_type": "code",
        "colab": {
          "base_uri": "https://localhost:8080/",
          "height": 124
        },
        "outputId": "0d58ee96-d225-4d49-9de1-3a40c54fe270"
      },
      "source": [
        "from google.colab import drive\n",
        "drive.mount('/content/drive', force_remount=True)"
      ],
      "execution_count": null,
      "outputs": [
        {
          "output_type": "stream",
          "text": [
            "Go to this URL in a browser: https://accounts.google.com/o/oauth2/auth?client_id=947318989803-6bn6qk8qdgf4n4g3pfee6491hc0brc4i.apps.googleusercontent.com&redirect_uri=urn%3aietf%3awg%3aoauth%3a2.0%3aoob&response_type=code&scope=email%20https%3a%2f%2fwww.googleapis.com%2fauth%2fdocs.test%20https%3a%2f%2fwww.googleapis.com%2fauth%2fdrive%20https%3a%2f%2fwww.googleapis.com%2fauth%2fdrive.photos.readonly%20https%3a%2f%2fwww.googleapis.com%2fauth%2fpeopleapi.readonly\n",
            "\n",
            "Enter your authorization code:\n",
            "··········\n",
            "Mounted at /content/drive\n"
          ],
          "name": "stdout"
        }
      ]
    },
    {
      "cell_type": "code",
      "metadata": {
        "id": "9blDtIQZjj3Q",
        "colab_type": "code",
        "colab": {}
      },
      "source": [
        "import time\n",
        "import torch\n",
        "import torch.nn as nn\n",
        "import torch.nn.functional as F\n",
        "import torchvision\n",
        "import torchvision.transforms as transforms\n",
        "import matplotlib.pyplot as plt # for plotting\n",
        "import torch.optim as optim #for gradient descent\n",
        "\n",
        "torch.manual_seed(50) # set the random seed\n",
        "train = '/content/drive/My Drive/aps360/data1/train'\n",
        "val = '/content/drive/My Drive/aps360/data1/val'\n",
        "test = '/content/drive/My Drive/aps360/data1/test'\n",
        "\n",
        "data_transform = transforms.Compose(\n",
        "        [transforms.RandomResizedCrop(45, scale=(1,1)),transforms.ToTensor(),transforms.Normalize((0.5, 0.5, 0.5), (0.5, 0.5, 0.5))])\n",
        "train_dataset = torchvision.datasets.ImageFolder(root=train,transform=data_transform)\n",
        "val_dataset = torchvision.datasets.ImageFolder(root=val,transform=data_transform)\n",
        "test_dataset = torchvision.datasets.ImageFolder(root=test,transform=data_transform)"
      ],
      "execution_count": null,
      "outputs": []
    },
    {
      "cell_type": "markdown",
      "metadata": {
        "id": "qAMTEXYof-zg",
        "colab_type": "text"
      },
      "source": [
        "# Helper Functions for Training"
      ]
    },
    {
      "cell_type": "code",
      "metadata": {
        "id": "eBUace6vdW4E",
        "colab_type": "code",
        "colab": {}
      },
      "source": [
        "## Get accuracy of the model on different sets of data\n",
        "def get_accuracy(model, data_loader):\n",
        "    correct = 0\n",
        "    total = 0\n",
        "    for imgs, labels in data_loader:\n",
        "        \n",
        "         \n",
        "        #############################################\n",
        "        #To Enable GPU Usage\n",
        "        if use_cuda and torch.cuda.is_available():\n",
        "          imgs = imgs.cuda()\n",
        "          labels = labels.cuda()\n",
        "        #############################################\n",
        "        \n",
        "        output = model(imgs)\n",
        "        \n",
        "        #select index with maximum prediction score\n",
        "        pred = output.max(1, keepdim=True)[1]\n",
        "        correct += pred.eq(labels.view_as(pred)).sum().item()\n",
        "        total += imgs.shape[0]\n",
        "    return correct / total"
      ],
      "execution_count": null,
      "outputs": []
    },
    {
      "cell_type": "code",
      "metadata": {
        "id": "Txw-taJ9kXWX",
        "colab_type": "code",
        "colab": {}
      },
      "source": [
        "## Find loss for the model on specified data loader, used in training\n",
        "def find_loss(model, valid_loader, criterion):\n",
        "  for imgs, labels in valid_loader:\n",
        "    img = imgs.cuda()\n",
        "    labels = labels.cuda()\n",
        "    recon_val = model(imgs.cuda())\n",
        "    loss_val = criterion(recon_val, labels.cuda())\n",
        "\n",
        "  return loss_val"
      ],
      "execution_count": null,
      "outputs": []
    },
    {
      "cell_type": "code",
      "metadata": {
        "id": "kC9CSiSGdtJF",
        "colab_type": "code",
        "colab": {}
      },
      "source": [
        "## Training function for non-transfer learning \n",
        "def train(model, data, batch_size=20, num_epochs=1,weight_decay=.0000):\n",
        "    torch.manual_seed(50)\n",
        "    train_loader = torch.utils.data.DataLoader(data, batch_size=batch_size, shuffle=True)\n",
        "    val_loader = torch.utils.data.DataLoader(val_dataset, batch_size=batch_size, shuffle=True)\n",
        "\n",
        "    criterion = nn.CrossEntropyLoss()\n",
        "    optimizer = optim.Adam(model.parameters(), lr=0.001,weight_decay=weight_decay)\n",
        "\n",
        "    iters, val_loss, train_loss, train_acc, val_acc = [], [], [], [], []\n",
        "\n",
        "    # training\n",
        "    n = 0 # the number of iterations\n",
        "    start_time=time.time()\n",
        "    for epoch in range(num_epochs):\n",
        "        for imgs, labels in iter(train_loader):\n",
        "          \n",
        "            \n",
        "            #############################################\n",
        "            #To Enable GPU Usage\n",
        "            if use_cuda and torch.cuda.is_available():\n",
        "              imgs = imgs.cuda()\n",
        "              labels = labels.cuda()\n",
        "            #############################################\n",
        "          \n",
        "            out = model(imgs)             # forward pass\n",
        "            loss = criterion(out, labels) # compute the total loss\n",
        "            loss.backward()               # backward pass (compute parameter updates)\n",
        "            optimizer.step()              # make the updates for each parameter\n",
        "            optimizer.zero_grad()         # a clean up step for PyTorch\n",
        "\n",
        "\n",
        "            print(\"Iteration: \",n,'Progress: % 6.2f ' % ((epoch * len(train_loader)) / (num_epochs * len(train_loader))*100),'%', \"Time Elapsed: % 6.2f s \" % (time.time()-start_time))\n",
        "\n",
        "\n",
        "        iters.append(n)\n",
        "\n",
        "        loss_validation = find_loss(model, val_loader, criterion)\n",
        "\n",
        "        train_loss.append(float(loss)/batch_size)             # compute *average* loss\n",
        "        val_loss.append(float(loss_validation)/batch_size)\n",
        "\n",
        "        train_acc.append(get_accuracy(model, train_loader)) # compute training accuracy \n",
        "        val_acc.append(get_accuracy(model, val_loader))  # compute validation accuracy\n",
        "        n += 1\n",
        "        print (\"Epoch %d Finished. \" % epoch ,\"Time per Epoch: % 6.2f s \"% ((time.time()-start_time) / (epoch +1)))\n",
        "\n",
        "\n",
        "    end_time= time.time()\n",
        "    # plotting\n",
        "    plt.title(\"Training Curve\")\n",
        "    plt.plot(iters, train_loss, label=\"Train\")\n",
        "    plt.plot(iters, val_loss, label=\"Validation\") \n",
        "    plt.xlabel(\"Iterations\")\n",
        "    plt.ylabel(\"Loss\")\n",
        "    plt.show()\n",
        "\n",
        "    plt.title(\"Training Curve\")\n",
        "    plt.plot(iters, train_acc, label=\"Training\")\n",
        "    plt.plot(iters, val_acc, label=\"Validation\")    \n",
        "    plt.xlabel(\"Iterations\")\n",
        "    plt.ylabel(\"Accuracy\")\n",
        "    plt.legend(loc='best')\n",
        "    plt.show()\n",
        "\n",
        "    train_acc.append(get_accuracy(model, train_loader))\n",
        "    print(\"Final Training Accuracy: {}\".format(train_acc[-1]))\n",
        "    print(\"Final Validation Accuracy: {}\".format(val_acc[-1]))\n",
        "    print (\"Total time:  % 6.2f s  Time per Epoch: % 6.2f s \" % ( (end_time-start_time), ((end_time-start_time) / num_epochs) ))\n",
        "    "
      ],
      "execution_count": null,
      "outputs": []
    },
    {
      "cell_type": "code",
      "metadata": {
        "id": "Fb55XqCzg8Kp",
        "colab_type": "code",
        "colab": {}
      },
      "source": [
        "## Training function for transfer learning \n",
        "def train_transfer(model, data, batch_size=20, num_epochs=1, weight_decay = .0001):\n",
        "    torch.manual_seed(50)\n",
        "    \n",
        "    train_loader = torch.utils.data.DataLoader(data, batch_size=batch_size, shuffle=True)\n",
        "    val_loader = torch.utils.data.DataLoader(val_dataset, batch_size=batch_size, shuffle=True)\n",
        "\n",
        "    criterion = nn.CrossEntropyLoss()\n",
        "    optimizer = optim.Adam(model.parameters(), lr=0.001, weight_decay = weight_decay)\n",
        "\n",
        "    iters, val_loss, train_loss, train_acc, val_acc = [], [], [], [], []\n",
        "\n",
        "    # training\n",
        "    n = 0 # the number of iterations\n",
        "    start_time=time.time()\n",
        "    for epoch in range(num_epochs):\n",
        "        for imgs, labels in iter(train_loader):\n",
        "          \n",
        "            \n",
        "            #############################################\n",
        "            #To Enable GPU Usage\n",
        "            if use_cuda and torch.cuda.is_available():\n",
        "              imgs = imgs.cuda()\n",
        "              labels = labels.cuda()\n",
        "            #############################################\n",
        "\n",
        "            imgs = imgs.to(device)\n",
        "            labels = labels.to(device)\n",
        "            \n",
        "            out = model(imgs)             # forward pass\n",
        "            loss = criterion(out, labels) # compute the total loss\n",
        "            loss.backward()               # backward pass (compute parameter updates)\n",
        "            optimizer.step()              # make the updates for each parameter\n",
        "            optimizer.zero_grad()         # a clean up step for PyTorch\n",
        "\n",
        "\n",
        "            print(\"Iteration: \",n,'Progress: % 6.2f ' % ((epoch * len(train_loader)) / (num_epochs * len(train_loader))*100),'%', \"Time Elapsed: % 6.2f s \" % (time.time()-start_time))\n",
        "\n",
        "\n",
        "        # save the current training information\n",
        "        iters.append(n)\n",
        "\n",
        "        loss_validation = find_loss(model, val_loader, criterion)\n",
        "\n",
        "        train_loss.append(float(loss)/batch_size)             # compute *average* loss\n",
        "        val_loss.append(float(loss_validation)/batch_size)\n",
        "\n",
        "        train_acc.append(get_accuracy(model, train_loader)) # compute training accuracy \n",
        "        val_acc.append(get_accuracy(model, val_loader))  # compute validation accuracy\n",
        "        n += 1\n",
        "        print (\"Epoch %d Finished. \" % epoch ,\"Time per Epoch: % 6.2f s \"% ((time.time()-start_time) / (epoch +1)))\n",
        "\n",
        "\n",
        "    end_time= time.time()\n",
        "    # plotting\n",
        "    plt.title(\"Training Curve\")\n",
        "    plt.plot(iters, train_loss, label=\"Train\")\n",
        "    plt.plot(iters, val_loss, label=\"Validation\") \n",
        "    plt.xlabel(\"Iterations\")\n",
        "    plt.ylabel(\"Loss\")\n",
        "    plt.show()\n",
        "\n",
        "    plt.title(\"Training Curve\")\n",
        "    plt.plot(iters, train_acc, label=\"Training\")\n",
        "    plt.plot(iters, val_acc, label=\"Validation\")    \n",
        "    plt.xlabel(\"Iterations\")\n",
        "    plt.ylabel(\"Accuracy\")\n",
        "    plt.legend(loc='best')\n",
        "    plt.show()\n",
        "\n",
        "    train_acc.append(get_accuracy(model, train_loader))\n",
        "    print(\"Final Training Accuracy: {}\".format(train_acc[-1]))\n",
        "    print(\"Final Validation Accuracy: {}\".format(val_acc[-1]))\n",
        "    print (\"Total time:  % 6.2f s  Time per Epoch: % 6.2f s \" % ( (end_time-start_time), ((end_time-start_time) / num_epochs) ))"
      ],
      "execution_count": null,
      "outputs": []
    },
    {
      "cell_type": "code",
      "metadata": {
        "id": "J3TfY_f8vac8",
        "colab_type": "code",
        "colab": {}
      },
      "source": [
        "## Training function for transfer learning, saves every iteration\n",
        "## Gives more information in the graph, but takes a longer time\n",
        "def train_transfer_iteration(model, data, batch_size=20, num_epochs=1, iteration_num= 10,learning_rate = 0.001, weight_decay = .0001):\n",
        "    torch.manual_seed(50)\n",
        "    train_loader = torch.utils.data.DataLoader(data, batch_size=batch_size, shuffle=True)\n",
        "    val_loader = torch.utils.data.DataLoader(val_dataset, batch_size=batch_size, shuffle=True)\n",
        "\n",
        "    criterion = nn.CrossEntropyLoss()\n",
        "    optimizer = optim.Adam(model.parameters(), lr=0.0015, weight_decay = weight_decay)\n",
        "\n",
        "    iters, val_loss, train_loss, train_acc, val_acc = [], [], [], [], []\n",
        "\n",
        "    # training\n",
        "    n = 0 # the number of iterations\n",
        "    start_time=time.time()\n",
        "    for epoch in range(num_epochs):\n",
        "\n",
        "        ## Drops learning rate after most of the inital training is done\n",
        "        learn_rate_change = learning_rate\n",
        "        #if n == round(num_epochs * 0.5):\n",
        "          #learn_rate_change = learning_rate *0.25\n",
        "        optimizer = optim.Adam(model.parameters(), lr=learn_rate_change, weight_decay = weight_decay)\n",
        "\n",
        "        for imgs, labels in iter(train_loader):\n",
        "          \n",
        "            \n",
        "            #############################################\n",
        "            #To Enable GPU Usage\n",
        "            if use_cuda and torch.cuda.is_available():\n",
        "              imgs = imgs.cuda()\n",
        "              labels = labels.cuda()\n",
        "            #############################################\n",
        "\n",
        "            imgs = imgs.to(device)\n",
        "            labels = labels.to(device)\n",
        "            \n",
        "            out = model(imgs)             # forward pass\n",
        "            loss = criterion(out, labels) # compute the total loss\n",
        "            loss.backward()               # backward pass (compute parameter updates)\n",
        "            optimizer.step()              # make the updates for each parameter\n",
        "            optimizer.zero_grad()         # a clean up step for PyTorch\n",
        "\n",
        "\n",
        "            print(\"Iteration: \",n,'Progress: % 6.2f ' % ((epoch * len(train_loader)) / (num_epochs * len(train_loader))*100),'%', \"Time Elapsed: % 6.2f s \" % (time.time()-start_time))\n",
        "\n",
        "\n",
        "            # save the current training information\n",
        "            iters.append(n)\n",
        "\n",
        "            loss_validation = find_loss(model, val_loader, criterion)\n",
        "\n",
        "            train_loss.append(float(loss)/batch_size)             # compute *average* loss\n",
        "            val_loss.append(float(loss_validation)/batch_size)\n",
        "\n",
        "            train_acc.append(get_accuracy(model, train_loader)) # compute training accuracy \n",
        "            val_acc.append(get_accuracy(model, val_loader))  # compute validation accuracy\n",
        "            n += 1\n",
        "        print (\"Epoch %d Finished. \" % epoch ,\"Time per Epoch: % 6.2f s \"% ((time.time()-start_time) / (epoch +1)))\n",
        "\n",
        "\n",
        "    end_time= time.time()\n",
        "    # plotting\n",
        "    plt.title(\"Training Curve\")\n",
        "    plt.plot(iters, train_loss, label=\"Train\")\n",
        "    plt.plot(iters, val_loss, label=\"Validation\") \n",
        "    plt.xlabel(\"Iterations\")\n",
        "    plt.ylabel(\"Loss\")\n",
        "    plt.show()\n",
        "\n",
        "    plt.title(\"Training Curve\")\n",
        "    plt.plot(iters, train_acc, label=\"Training\")\n",
        "    plt.plot(iters, val_acc, label=\"Validation\")    \n",
        "    plt.xlabel(\"Iterations\")\n",
        "    plt.ylabel(\"Accuracy\")\n",
        "    plt.legend(loc='best')\n",
        "    plt.show()\n",
        "\n",
        "    train_acc.append(get_accuracy(model, train_loader))\n",
        "    print(\"Final Training Accuracy: {}\".format(train_acc[-1]))\n",
        "    print(\"Final Validation Accuracy: {}\".format(val_acc[-1]))\n",
        "    print (\"Total time:  % 6.2f s  Time per Epoch: % 6.2f s \" % ( (end_time-start_time), ((end_time-start_time) / num_epochs) ))"
      ],
      "execution_count": null,
      "outputs": []
    },
    {
      "cell_type": "markdown",
      "metadata": {
        "id": "QEKOwqPMlnJL",
        "colab_type": "text"
      },
      "source": [
        "# Training Our Best Model"
      ]
    },
    {
      "cell_type": "markdown",
      "metadata": {
        "id": "KeibH4lm9Dx2",
        "colab_type": "text"
      },
      "source": [
        "***new"
      ]
    },
    {
      "cell_type": "code",
      "metadata": {
        "id": "BH4ERYp29C9g",
        "colab_type": "code",
        "colab": {
          "base_uri": "https://localhost:8080/",
          "height": 1000
        },
        "outputId": "50d8f530-2234-44d1-f546-b6f2bf8a19c3"
      },
      "source": [
        "use_cuda = True\n",
        "from torchvision import datasets, models, transforms\n",
        "device = torch.device(\"cuda:0\" if torch.cuda.is_available() else \"cpu\")\n",
        "model_ft_2 = models.resnet34(pretrained=True)\n",
        "\n",
        "##Finetuning \n",
        "\n",
        "#for param in model_ft_2.parameters():\n",
        "#    param.requires_grad = False\n",
        "\n",
        "model_ft_2 = model_ft_2.to(device)\n",
        "\n",
        "num_ftrs_2 = model_ft_2.fc.in_features\n",
        "\n",
        "model_ft_2.fc = nn.Linear(num_ftrs_2, 91)\n",
        "\n",
        "##lr = 0.001\n",
        "train_transfer(model_ft_2.cuda(), train_dataset, batch_size=512, num_epochs=12,weight_decay = 0.000)"
      ],
      "execution_count": null,
      "outputs": [
        {
          "output_type": "stream",
          "text": [
            "Iteration:  0 Progress:   0.00  % Time Elapsed:  124.85 s \n",
            "Iteration:  0 Progress:   0.00  % Time Elapsed:  241.21 s \n",
            "Iteration:  0 Progress:   0.00  % Time Elapsed:  365.97 s \n",
            "Iteration:  0 Progress:   0.00  % Time Elapsed:  489.45 s \n",
            "Iteration:  0 Progress:   0.00  % Time Elapsed:  605.41 s \n",
            "Iteration:  0 Progress:   0.00  % Time Elapsed:  726.09 s \n",
            "Iteration:  0 Progress:   0.00  % Time Elapsed:  848.23 s \n",
            "Iteration:  0 Progress:   0.00  % Time Elapsed:  964.15 s \n",
            "Iteration:  0 Progress:   0.00  % Time Elapsed:  1079.74 s \n",
            "Iteration:  0 Progress:   0.00  % Time Elapsed:  1205.72 s \n",
            "Iteration:  0 Progress:   0.00  % Time Elapsed:  1319.59 s \n",
            "Iteration:  0 Progress:   0.00  % Time Elapsed:  1438.67 s \n",
            "Iteration:  0 Progress:   0.00  % Time Elapsed:  1556.20 s \n",
            "Iteration:  0 Progress:   0.00  % Time Elapsed:  1672.12 s \n",
            "Iteration:  0 Progress:   0.00  % Time Elapsed:  1788.43 s \n",
            "Iteration:  0 Progress:   0.00  % Time Elapsed:  1812.34 s \n",
            "Epoch 0 Finished.  Time per Epoch:  2042.36 s \n",
            "Iteration:  1 Progress:   8.33  % Time Elapsed:  2043.29 s \n",
            "Iteration:  1 Progress:   8.33  % Time Elapsed:  2044.19 s \n",
            "Iteration:  1 Progress:   8.33  % Time Elapsed:  2045.10 s \n",
            "Iteration:  1 Progress:   8.33  % Time Elapsed:  2046.02 s \n",
            "Iteration:  1 Progress:   8.33  % Time Elapsed:  2046.94 s \n",
            "Iteration:  1 Progress:   8.33  % Time Elapsed:  2047.86 s \n",
            "Iteration:  1 Progress:   8.33  % Time Elapsed:  2048.77 s \n",
            "Iteration:  1 Progress:   8.33  % Time Elapsed:  2049.67 s \n",
            "Iteration:  1 Progress:   8.33  % Time Elapsed:  2050.58 s \n",
            "Iteration:  1 Progress:   8.33  % Time Elapsed:  2051.48 s \n",
            "Iteration:  1 Progress:   8.33  % Time Elapsed:  2052.37 s \n",
            "Iteration:  1 Progress:   8.33  % Time Elapsed:  2053.27 s \n",
            "Iteration:  1 Progress:   8.33  % Time Elapsed:  2054.17 s \n",
            "Iteration:  1 Progress:   8.33  % Time Elapsed:  2055.02 s \n",
            "Iteration:  1 Progress:   8.33  % Time Elapsed:  2055.86 s \n",
            "Iteration:  1 Progress:   8.33  % Time Elapsed:  2056.05 s \n",
            "Epoch 1 Finished.  Time per Epoch:  1035.82 s \n",
            "Iteration:  2 Progress:  16.67  % Time Elapsed:  2072.55 s \n",
            "Iteration:  2 Progress:  16.67  % Time Elapsed:  2073.46 s \n",
            "Iteration:  2 Progress:  16.67  % Time Elapsed:  2074.29 s \n",
            "Iteration:  2 Progress:  16.67  % Time Elapsed:  2075.20 s \n",
            "Iteration:  2 Progress:  16.67  % Time Elapsed:  2076.10 s \n",
            "Iteration:  2 Progress:  16.67  % Time Elapsed:  2077.02 s \n",
            "Iteration:  2 Progress:  16.67  % Time Elapsed:  2077.93 s \n",
            "Iteration:  2 Progress:  16.67  % Time Elapsed:  2078.83 s \n",
            "Iteration:  2 Progress:  16.67  % Time Elapsed:  2079.74 s \n",
            "Iteration:  2 Progress:  16.67  % Time Elapsed:  2080.64 s \n",
            "Iteration:  2 Progress:  16.67  % Time Elapsed:  2081.53 s \n",
            "Iteration:  2 Progress:  16.67  % Time Elapsed:  2082.37 s \n",
            "Iteration:  2 Progress:  16.67  % Time Elapsed:  2083.28 s \n",
            "Iteration:  2 Progress:  16.67  % Time Elapsed:  2084.15 s \n",
            "Iteration:  2 Progress:  16.67  % Time Elapsed:  2085.06 s \n",
            "Iteration:  2 Progress:  16.67  % Time Elapsed:  2085.27 s \n",
            "Epoch 2 Finished.  Time per Epoch:  700.12 s \n",
            "Iteration:  3 Progress:  25.00  % Time Elapsed:  2101.27 s \n",
            "Iteration:  3 Progress:  25.00  % Time Elapsed:  2102.18 s \n",
            "Iteration:  3 Progress:  25.00  % Time Elapsed:  2103.10 s \n",
            "Iteration:  3 Progress:  25.00  % Time Elapsed:  2103.94 s \n",
            "Iteration:  3 Progress:  25.00  % Time Elapsed:  2104.85 s \n",
            "Iteration:  3 Progress:  25.00  % Time Elapsed:  2105.76 s \n",
            "Iteration:  3 Progress:  25.00  % Time Elapsed:  2106.67 s \n",
            "Iteration:  3 Progress:  25.00  % Time Elapsed:  2107.57 s \n",
            "Iteration:  3 Progress:  25.00  % Time Elapsed:  2108.44 s \n",
            "Iteration:  3 Progress:  25.00  % Time Elapsed:  2109.35 s \n",
            "Iteration:  3 Progress:  25.00  % Time Elapsed:  2110.24 s \n",
            "Iteration:  3 Progress:  25.00  % Time Elapsed:  2111.15 s \n",
            "Iteration:  3 Progress:  25.00  % Time Elapsed:  2112.04 s \n",
            "Iteration:  3 Progress:  25.00  % Time Elapsed:  2112.96 s \n",
            "Iteration:  3 Progress:  25.00  % Time Elapsed:  2113.85 s \n",
            "Iteration:  3 Progress:  25.00  % Time Elapsed:  2114.05 s \n",
            "Epoch 3 Finished.  Time per Epoch:  532.29 s \n",
            "Iteration:  4 Progress:  33.33  % Time Elapsed:  2130.08 s \n",
            "Iteration:  4 Progress:  33.33  % Time Elapsed:  2131.00 s \n",
            "Iteration:  4 Progress:  33.33  % Time Elapsed:  2131.90 s \n",
            "Iteration:  4 Progress:  33.33  % Time Elapsed:  2132.82 s \n",
            "Iteration:  4 Progress:  33.33  % Time Elapsed:  2133.72 s \n",
            "Iteration:  4 Progress:  33.33  % Time Elapsed:  2134.64 s \n",
            "Iteration:  4 Progress:  33.33  % Time Elapsed:  2135.52 s \n",
            "Iteration:  4 Progress:  33.33  % Time Elapsed:  2136.44 s \n",
            "Iteration:  4 Progress:  33.33  % Time Elapsed:  2137.38 s \n",
            "Iteration:  4 Progress:  33.33  % Time Elapsed:  2138.31 s \n",
            "Iteration:  4 Progress:  33.33  % Time Elapsed:  2139.24 s \n",
            "Iteration:  4 Progress:  33.33  % Time Elapsed:  2140.16 s \n",
            "Iteration:  4 Progress:  33.33  % Time Elapsed:  2141.10 s \n",
            "Iteration:  4 Progress:  33.33  % Time Elapsed:  2142.03 s \n",
            "Iteration:  4 Progress:  33.33  % Time Elapsed:  2142.96 s \n",
            "Iteration:  4 Progress:  33.33  % Time Elapsed:  2143.17 s \n",
            "Epoch 4 Finished.  Time per Epoch:  431.78 s \n",
            "Iteration:  5 Progress:  41.67  % Time Elapsed:  2159.83 s \n",
            "Iteration:  5 Progress:  41.67  % Time Elapsed:  2160.75 s \n",
            "Iteration:  5 Progress:  41.67  % Time Elapsed:  2161.65 s \n",
            "Iteration:  5 Progress:  41.67  % Time Elapsed:  2162.57 s \n",
            "Iteration:  5 Progress:  41.67  % Time Elapsed:  2163.46 s \n",
            "Iteration:  5 Progress:  41.67  % Time Elapsed:  2164.37 s \n",
            "Iteration:  5 Progress:  41.67  % Time Elapsed:  2165.28 s \n",
            "Iteration:  5 Progress:  41.67  % Time Elapsed:  2166.18 s \n",
            "Iteration:  5 Progress:  41.67  % Time Elapsed:  2167.08 s \n",
            "Iteration:  5 Progress:  41.67  % Time Elapsed:  2167.98 s \n",
            "Iteration:  5 Progress:  41.67  % Time Elapsed:  2168.91 s \n",
            "Iteration:  5 Progress:  41.67  % Time Elapsed:  2169.82 s \n",
            "Iteration:  5 Progress:  41.67  % Time Elapsed:  2170.74 s \n",
            "Iteration:  5 Progress:  41.67  % Time Elapsed:  2171.64 s \n",
            "Iteration:  5 Progress:  41.67  % Time Elapsed:  2172.56 s \n",
            "Iteration:  5 Progress:  41.67  % Time Elapsed:  2172.74 s \n",
            "Epoch 5 Finished.  Time per Epoch:  364.63 s \n",
            "Iteration:  6 Progress:  50.00  % Time Elapsed:  2188.64 s \n",
            "Iteration:  6 Progress:  50.00  % Time Elapsed:  2189.55 s \n",
            "Iteration:  6 Progress:  50.00  % Time Elapsed:  2190.46 s \n",
            "Iteration:  6 Progress:  50.00  % Time Elapsed:  2191.38 s \n",
            "Iteration:  6 Progress:  50.00  % Time Elapsed:  2192.29 s \n",
            "Iteration:  6 Progress:  50.00  % Time Elapsed:  2193.15 s \n",
            "Iteration:  6 Progress:  50.00  % Time Elapsed:  2194.05 s \n",
            "Iteration:  6 Progress:  50.00  % Time Elapsed:  2194.96 s \n",
            "Iteration:  6 Progress:  50.00  % Time Elapsed:  2195.95 s \n",
            "Iteration:  6 Progress:  50.00  % Time Elapsed:  2197.02 s \n",
            "Iteration:  6 Progress:  50.00  % Time Elapsed:  2198.11 s \n",
            "Iteration:  6 Progress:  50.00  % Time Elapsed:  2199.19 s \n",
            "Iteration:  6 Progress:  50.00  % Time Elapsed:  2200.24 s \n",
            "Iteration:  6 Progress:  50.00  % Time Elapsed:  2201.33 s \n",
            "Iteration:  6 Progress:  50.00  % Time Elapsed:  2202.32 s \n",
            "Iteration:  6 Progress:  50.00  % Time Elapsed:  2202.55 s \n",
            "Epoch 6 Finished.  Time per Epoch:  316.91 s \n",
            "Iteration:  7 Progress:  58.33  % Time Elapsed:  2219.27 s \n",
            "Iteration:  7 Progress:  58.33  % Time Elapsed:  2220.19 s \n",
            "Iteration:  7 Progress:  58.33  % Time Elapsed:  2221.12 s \n",
            "Iteration:  7 Progress:  58.33  % Time Elapsed:  2222.06 s \n",
            "Iteration:  7 Progress:  58.33  % Time Elapsed:  2222.97 s \n",
            "Iteration:  7 Progress:  58.33  % Time Elapsed:  2223.90 s \n",
            "Iteration:  7 Progress:  58.33  % Time Elapsed:  2224.83 s \n",
            "Iteration:  7 Progress:  58.33  % Time Elapsed:  2225.75 s \n",
            "Iteration:  7 Progress:  58.33  % Time Elapsed:  2226.68 s \n",
            "Iteration:  7 Progress:  58.33  % Time Elapsed:  2227.57 s \n",
            "Iteration:  7 Progress:  58.33  % Time Elapsed:  2228.43 s \n",
            "Iteration:  7 Progress:  58.33  % Time Elapsed:  2229.33 s \n",
            "Iteration:  7 Progress:  58.33  % Time Elapsed:  2230.23 s \n",
            "Iteration:  7 Progress:  58.33  % Time Elapsed:  2231.14 s \n",
            "Iteration:  7 Progress:  58.33  % Time Elapsed:  2232.05 s \n",
            "Iteration:  7 Progress:  58.33  % Time Elapsed:  2232.24 s \n",
            "Epoch 7 Finished.  Time per Epoch:  280.90 s \n",
            "Iteration:  8 Progress:  66.67  % Time Elapsed:  2248.09 s \n",
            "Iteration:  8 Progress:  66.67  % Time Elapsed:  2249.01 s \n",
            "Iteration:  8 Progress:  66.67  % Time Elapsed:  2249.87 s \n",
            "Iteration:  8 Progress:  66.67  % Time Elapsed:  2250.71 s \n",
            "Iteration:  8 Progress:  66.67  % Time Elapsed:  2251.61 s \n",
            "Iteration:  8 Progress:  66.67  % Time Elapsed:  2252.50 s \n",
            "Iteration:  8 Progress:  66.67  % Time Elapsed:  2253.38 s \n",
            "Iteration:  8 Progress:  66.67  % Time Elapsed:  2254.28 s \n",
            "Iteration:  8 Progress:  66.67  % Time Elapsed:  2255.19 s \n",
            "Iteration:  8 Progress:  66.67  % Time Elapsed:  2256.06 s \n",
            "Iteration:  8 Progress:  66.67  % Time Elapsed:  2256.95 s \n",
            "Iteration:  8 Progress:  66.67  % Time Elapsed:  2257.84 s \n",
            "Iteration:  8 Progress:  66.67  % Time Elapsed:  2258.73 s \n",
            "Iteration:  8 Progress:  66.67  % Time Elapsed:  2259.64 s \n",
            "Iteration:  8 Progress:  66.67  % Time Elapsed:  2260.51 s \n",
            "Iteration:  8 Progress:  66.67  % Time Elapsed:  2260.71 s \n",
            "Epoch 8 Finished.  Time per Epoch:  252.82 s \n",
            "Iteration:  9 Progress:  75.00  % Time Elapsed:  2276.24 s \n",
            "Iteration:  9 Progress:  75.00  % Time Elapsed:  2277.15 s \n",
            "Iteration:  9 Progress:  75.00  % Time Elapsed:  2278.06 s \n",
            "Iteration:  9 Progress:  75.00  % Time Elapsed:  2278.96 s \n",
            "Iteration:  9 Progress:  75.00  % Time Elapsed:  2279.84 s \n",
            "Iteration:  9 Progress:  75.00  % Time Elapsed:  2280.71 s \n",
            "Iteration:  9 Progress:  75.00  % Time Elapsed:  2281.57 s \n",
            "Iteration:  9 Progress:  75.00  % Time Elapsed:  2282.47 s \n",
            "Iteration:  9 Progress:  75.00  % Time Elapsed:  2283.36 s \n",
            "Iteration:  9 Progress:  75.00  % Time Elapsed:  2284.25 s \n",
            "Iteration:  9 Progress:  75.00  % Time Elapsed:  2285.18 s \n",
            "Iteration:  9 Progress:  75.00  % Time Elapsed:  2286.09 s \n",
            "Iteration:  9 Progress:  75.00  % Time Elapsed:  2287.01 s \n",
            "Iteration:  9 Progress:  75.00  % Time Elapsed:  2287.90 s \n",
            "Iteration:  9 Progress:  75.00  % Time Elapsed:  2288.80 s \n",
            "Iteration:  9 Progress:  75.00  % Time Elapsed:  2289.00 s \n",
            "Epoch 9 Finished.  Time per Epoch:  230.44 s \n",
            "Iteration:  10 Progress:  83.33  % Time Elapsed:  2305.31 s \n",
            "Iteration:  10 Progress:  83.33  % Time Elapsed:  2306.23 s \n",
            "Iteration:  10 Progress:  83.33  % Time Elapsed:  2307.15 s \n",
            "Iteration:  10 Progress:  83.33  % Time Elapsed:  2308.05 s \n",
            "Iteration:  10 Progress:  83.33  % Time Elapsed:  2308.93 s \n",
            "Iteration:  10 Progress:  83.33  % Time Elapsed:  2309.81 s \n",
            "Iteration:  10 Progress:  83.33  % Time Elapsed:  2310.73 s \n",
            "Iteration:  10 Progress:  83.33  % Time Elapsed:  2311.63 s \n",
            "Iteration:  10 Progress:  83.33  % Time Elapsed:  2312.51 s \n",
            "Iteration:  10 Progress:  83.33  % Time Elapsed:  2313.39 s \n",
            "Iteration:  10 Progress:  83.33  % Time Elapsed:  2314.27 s \n",
            "Iteration:  10 Progress:  83.33  % Time Elapsed:  2315.11 s \n",
            "Iteration:  10 Progress:  83.33  % Time Elapsed:  2316.00 s \n",
            "Iteration:  10 Progress:  83.33  % Time Elapsed:  2316.90 s \n",
            "Iteration:  10 Progress:  83.33  % Time Elapsed:  2317.78 s \n",
            "Iteration:  10 Progress:  83.33  % Time Elapsed:  2317.96 s \n",
            "Epoch 10 Finished.  Time per Epoch:  212.08 s \n",
            "Iteration:  11 Progress:  91.67  % Time Elapsed:  2333.79 s \n",
            "Iteration:  11 Progress:  91.67  % Time Elapsed:  2334.69 s \n",
            "Iteration:  11 Progress:  91.67  % Time Elapsed:  2335.58 s \n",
            "Iteration:  11 Progress:  91.67  % Time Elapsed:  2336.42 s \n",
            "Iteration:  11 Progress:  91.67  % Time Elapsed:  2337.31 s \n",
            "Iteration:  11 Progress:  91.67  % Time Elapsed:  2338.24 s \n",
            "Iteration:  11 Progress:  91.67  % Time Elapsed:  2339.14 s \n",
            "Iteration:  11 Progress:  91.67  % Time Elapsed:  2339.99 s \n",
            "Iteration:  11 Progress:  91.67  % Time Elapsed:  2340.89 s \n",
            "Iteration:  11 Progress:  91.67  % Time Elapsed:  2341.79 s \n",
            "Iteration:  11 Progress:  91.67  % Time Elapsed:  2342.69 s \n",
            "Iteration:  11 Progress:  91.67  % Time Elapsed:  2343.57 s \n",
            "Iteration:  11 Progress:  91.67  % Time Elapsed:  2344.47 s \n",
            "Iteration:  11 Progress:  91.67  % Time Elapsed:  2345.37 s \n",
            "Iteration:  11 Progress:  91.67  % Time Elapsed:  2346.25 s \n",
            "Iteration:  11 Progress:  91.67  % Time Elapsed:  2346.45 s \n",
            "Epoch 11 Finished.  Time per Epoch:  196.79 s \n"
          ],
          "name": "stdout"
        },
        {
          "output_type": "display_data",
          "data": {
            "image/png": "[encoded data removed]",
            "text/plain": [
              "<Figure size 432x288 with 1 Axes>"
            ]
          },
          "metadata": {
            "tags": [],
            "needs_background": "light"
          }
        },
        {
          "output_type": "display_data",
          "data": {
            "image/png": "[encoded data removed]",
            "text/plain": [
              "<Figure size 432x288 with 1 Axes>"
            ]
          },
          "metadata": {
            "tags": [],
            "needs_background": "light"
          }
        },
        {
          "output_type": "stream",
          "text": [
            "Final Training Accuracy: 0.9908834103749358\n",
            "Final Validation Accuracy: 0.9607032057911065\n",
            "Total time:   2361.47 s  Time per Epoch:  196.79 s \n"
          ],
          "name": "stdout"
        }
      ]
    },
    {
      "cell_type": "code",
      "metadata": {
        "id": "o1_kvIW-JQ_e",
        "colab_type": "code",
        "colab": {
          "base_uri": "https://localhost:8080/",
          "height": 1000
        },
        "outputId": "f0d4d0da-8ed7-4e7a-e482-5830bd7f3ed5"
      },
      "source": [
        "use_cuda = True\n",
        "from torchvision import datasets, models, transforms\n",
        "device = torch.device(\"cuda:0\" if torch.cuda.is_available() else \"cpu\")\n",
        "model_ft_2 = models.resnet34(pretrained=True)\n",
        "\n",
        "model_ft_2 = model_ft_2.to(device)\n",
        "num_ftrs_2 = model_ft_2.fc.in_features\n",
        "model_ft_2.fc = nn.Linear(num_ftrs_2, 89)\n",
        "\n",
        "##lr = 0.001\n",
        "train_transfer(model_ft_2.cuda(), train_dataset, batch_size=1000, num_epochs=30,weight_decay = 0.000)"
      ],
      "execution_count": null,
      "outputs": [
        {
          "output_type": "stream",
          "text": [
            "Iteration:  0 Progress:   0.00  % Time Elapsed:   6.83 s \n",
            "Iteration:  0 Progress:   0.00  % Time Elapsed:  13.60 s \n",
            "Iteration:  0 Progress:   0.00  % Time Elapsed:  20.39 s \n",
            "Iteration:  0 Progress:   0.00  % Time Elapsed:  27.22 s \n",
            "Iteration:  0 Progress:   0.00  % Time Elapsed:  34.00 s \n",
            "Iteration:  0 Progress:   0.00  % Time Elapsed:  40.74 s \n",
            "Iteration:  0 Progress:   0.00  % Time Elapsed:  47.44 s \n",
            "Iteration:  0 Progress:   0.00  % Time Elapsed:  52.95 s \n",
            "Epoch 0 Finished.  Time per Epoch:  78.88 s \n",
            "Iteration:  1 Progress:   3.33  % Time Elapsed:  85.64 s \n",
            "Iteration:  1 Progress:   3.33  % Time Elapsed:  92.44 s \n",
            "Iteration:  1 Progress:   3.33  % Time Elapsed:  99.18 s \n",
            "Iteration:  1 Progress:   3.33  % Time Elapsed:  105.96 s \n",
            "Iteration:  1 Progress:   3.33  % Time Elapsed:  112.67 s \n",
            "Iteration:  1 Progress:   3.33  % Time Elapsed:  119.54 s \n",
            "Iteration:  1 Progress:   3.33  % Time Elapsed:  126.31 s \n",
            "Iteration:  1 Progress:   3.33  % Time Elapsed:  131.82 s \n",
            "Epoch 1 Finished.  Time per Epoch:  78.81 s \n",
            "Iteration:  2 Progress:   6.67  % Time Elapsed:  164.46 s \n",
            "Iteration:  2 Progress:   6.67  % Time Elapsed:  171.26 s \n",
            "Iteration:  2 Progress:   6.67  % Time Elapsed:  177.96 s \n",
            "Iteration:  2 Progress:   6.67  % Time Elapsed:  184.82 s \n",
            "Iteration:  2 Progress:   6.67  % Time Elapsed:  192.59 s \n",
            "Iteration:  2 Progress:   6.67  % Time Elapsed:  199.34 s \n",
            "Iteration:  2 Progress:   6.67  % Time Elapsed:  206.07 s \n",
            "Iteration:  2 Progress:   6.67  % Time Elapsed:  211.56 s \n",
            "Epoch 2 Finished.  Time per Epoch:  78.89 s \n",
            "Iteration:  3 Progress:  10.00  % Time Elapsed:  243.33 s \n",
            "Iteration:  3 Progress:  10.00  % Time Elapsed:  250.03 s \n",
            "Iteration:  3 Progress:  10.00  % Time Elapsed:  256.71 s \n",
            "Iteration:  3 Progress:  10.00  % Time Elapsed:  263.59 s \n",
            "Iteration:  3 Progress:  10.00  % Time Elapsed:  270.29 s \n",
            "Iteration:  3 Progress:  10.00  % Time Elapsed:  276.92 s \n",
            "Iteration:  3 Progress:  10.00  % Time Elapsed:  283.64 s \n",
            "Iteration:  3 Progress:  10.00  % Time Elapsed:  289.10 s \n",
            "Epoch 3 Finished.  Time per Epoch:  78.63 s \n",
            "Iteration:  4 Progress:  13.33  % Time Elapsed:  321.22 s \n",
            "Iteration:  4 Progress:  13.33  % Time Elapsed:  327.91 s \n",
            "Iteration:  4 Progress:  13.33  % Time Elapsed:  334.70 s \n",
            "Iteration:  4 Progress:  13.33  % Time Elapsed:  341.56 s \n",
            "Iteration:  4 Progress:  13.33  % Time Elapsed:  348.37 s \n",
            "Iteration:  4 Progress:  13.33  % Time Elapsed:  355.17 s \n",
            "Iteration:  4 Progress:  13.33  % Time Elapsed:  361.96 s \n",
            "Iteration:  4 Progress:  13.33  % Time Elapsed:  367.44 s \n",
            "Epoch 4 Finished.  Time per Epoch:  78.66 s \n",
            "Iteration:  5 Progress:  16.67  % Time Elapsed:  400.01 s \n",
            "Iteration:  5 Progress:  16.67  % Time Elapsed:  406.75 s \n",
            "Iteration:  5 Progress:  16.67  % Time Elapsed:  413.52 s \n",
            "Iteration:  5 Progress:  16.67  % Time Elapsed:  420.29 s \n",
            "Iteration:  5 Progress:  16.67  % Time Elapsed:  427.02 s \n",
            "Iteration:  5 Progress:  16.67  % Time Elapsed:  433.84 s \n",
            "Iteration:  5 Progress:  16.67  % Time Elapsed:  440.66 s \n",
            "Iteration:  5 Progress:  16.67  % Time Elapsed:  446.16 s \n",
            "Epoch 5 Finished.  Time per Epoch:  78.73 s \n",
            "Iteration:  6 Progress:  20.00  % Time Elapsed:  479.14 s \n",
            "Iteration:  6 Progress:  20.00  % Time Elapsed:  485.93 s \n",
            "Iteration:  6 Progress:  20.00  % Time Elapsed:  492.73 s \n",
            "Iteration:  6 Progress:  20.00  % Time Elapsed:  500.67 s \n",
            "Iteration:  6 Progress:  20.00  % Time Elapsed:  507.67 s \n",
            "Iteration:  6 Progress:  20.00  % Time Elapsed:  514.48 s \n",
            "Iteration:  6 Progress:  20.00  % Time Elapsed:  521.24 s \n",
            "Iteration:  6 Progress:  20.00  % Time Elapsed:  526.74 s \n",
            "Epoch 6 Finished.  Time per Epoch:  78.96 s \n",
            "Iteration:  7 Progress:  23.33  % Time Elapsed:  559.45 s \n",
            "Iteration:  7 Progress:  23.33  % Time Elapsed:  567.04 s \n",
            "Iteration:  7 Progress:  23.33  % Time Elapsed:  573.80 s \n",
            "Iteration:  7 Progress:  23.33  % Time Elapsed:  580.58 s \n",
            "Iteration:  7 Progress:  23.33  % Time Elapsed:  587.33 s \n",
            "Iteration:  7 Progress:  23.33  % Time Elapsed:  593.96 s \n",
            "Iteration:  7 Progress:  23.33  % Time Elapsed:  600.64 s \n",
            "Iteration:  7 Progress:  23.33  % Time Elapsed:  606.08 s \n",
            "Epoch 7 Finished.  Time per Epoch:  79.01 s \n",
            "Iteration:  8 Progress:  26.67  % Time Elapsed:  638.85 s \n",
            "Iteration:  8 Progress:  26.67  % Time Elapsed:  645.72 s \n",
            "Iteration:  8 Progress:  26.67  % Time Elapsed:  652.52 s \n",
            "Iteration:  8 Progress:  26.67  % Time Elapsed:  659.30 s \n",
            "Iteration:  8 Progress:  26.67  % Time Elapsed:  666.10 s \n",
            "Iteration:  8 Progress:  26.67  % Time Elapsed:  672.87 s \n",
            "Iteration:  8 Progress:  26.67  % Time Elapsed:  679.62 s \n",
            "Iteration:  8 Progress:  26.67  % Time Elapsed:  685.10 s \n",
            "Epoch 8 Finished.  Time per Epoch:  79.04 s \n",
            "Iteration:  9 Progress:  30.00  % Time Elapsed:  718.14 s \n",
            "Iteration:  9 Progress:  30.00  % Time Elapsed:  725.02 s \n",
            "Iteration:  9 Progress:  30.00  % Time Elapsed:  731.89 s \n",
            "Iteration:  9 Progress:  30.00  % Time Elapsed:  738.68 s \n",
            "Iteration:  9 Progress:  30.00  % Time Elapsed:  745.47 s \n",
            "Iteration:  9 Progress:  30.00  % Time Elapsed:  752.31 s \n",
            "Iteration:  9 Progress:  30.00  % Time Elapsed:  759.10 s \n",
            "Iteration:  9 Progress:  30.00  % Time Elapsed:  764.54 s \n",
            "Epoch 9 Finished.  Time per Epoch:  79.06 s \n",
            "Iteration:  10 Progress:  33.33  % Time Elapsed:  797.28 s \n",
            "Iteration:  10 Progress:  33.33  % Time Elapsed:  804.09 s \n",
            "Iteration:  10 Progress:  33.33  % Time Elapsed:  811.89 s \n",
            "Iteration:  10 Progress:  33.33  % Time Elapsed:  818.82 s \n",
            "Iteration:  10 Progress:  33.33  % Time Elapsed:  825.63 s \n",
            "Iteration:  10 Progress:  33.33  % Time Elapsed:  832.44 s \n",
            "Iteration:  10 Progress:  33.33  % Time Elapsed:  839.22 s \n",
            "Iteration:  10 Progress:  33.33  % Time Elapsed:  844.75 s \n",
            "Epoch 10 Finished.  Time per Epoch:  79.29 s \n",
            "Iteration:  11 Progress:  36.67  % Time Elapsed:  878.92 s \n",
            "Iteration:  11 Progress:  36.67  % Time Elapsed:  885.74 s \n",
            "Iteration:  11 Progress:  36.67  % Time Elapsed:  892.48 s \n",
            "Iteration:  11 Progress:  36.67  % Time Elapsed:  899.23 s \n",
            "Iteration:  11 Progress:  36.67  % Time Elapsed:  905.95 s \n",
            "Iteration:  11 Progress:  36.67  % Time Elapsed:  912.80 s \n",
            "Iteration:  11 Progress:  36.67  % Time Elapsed:  919.60 s \n",
            "Iteration:  11 Progress:  36.67  % Time Elapsed:  925.11 s \n",
            "Epoch 11 Finished.  Time per Epoch:  79.24 s \n",
            "Iteration:  12 Progress:  40.00  % Time Elapsed:  957.63 s \n",
            "Iteration:  12 Progress:  40.00  % Time Elapsed:  964.37 s \n",
            "Iteration:  12 Progress:  40.00  % Time Elapsed:  971.11 s \n",
            "Iteration:  12 Progress:  40.00  % Time Elapsed:  977.94 s \n",
            "Iteration:  12 Progress:  40.00  % Time Elapsed:  984.72 s \n",
            "Iteration:  12 Progress:  40.00  % Time Elapsed:  991.45 s \n",
            "Iteration:  12 Progress:  40.00  % Time Elapsed:  998.20 s \n",
            "Iteration:  12 Progress:  40.00  % Time Elapsed:  1003.71 s \n",
            "Epoch 12 Finished.  Time per Epoch:  79.19 s \n",
            "Iteration:  13 Progress:  43.33  % Time Elapsed:  1036.16 s \n",
            "Iteration:  13 Progress:  43.33  % Time Elapsed:  1042.93 s \n",
            "Iteration:  13 Progress:  43.33  % Time Elapsed:  1049.63 s \n",
            "Iteration:  13 Progress:  43.33  % Time Elapsed:  1056.35 s \n",
            "Iteration:  13 Progress:  43.33  % Time Elapsed:  1063.13 s \n",
            "Iteration:  13 Progress:  43.33  % Time Elapsed:  1069.88 s \n",
            "Iteration:  13 Progress:  43.33  % Time Elapsed:  1076.63 s \n",
            "Iteration:  13 Progress:  43.33  % Time Elapsed:  1082.09 s \n",
            "Epoch 13 Finished.  Time per Epoch:  79.12 s \n",
            "Iteration:  14 Progress:  46.67  % Time Elapsed:  1114.48 s \n",
            "Iteration:  14 Progress:  46.67  % Time Elapsed:  1122.22 s \n",
            "Iteration:  14 Progress:  46.67  % Time Elapsed:  1129.29 s \n",
            "Iteration:  14 Progress:  46.67  % Time Elapsed:  1136.10 s \n",
            "Iteration:  14 Progress:  46.67  % Time Elapsed:  1142.74 s \n",
            "Iteration:  14 Progress:  46.67  % Time Elapsed:  1149.51 s \n",
            "Iteration:  14 Progress:  46.67  % Time Elapsed:  1156.22 s \n",
            "Iteration:  14 Progress:  46.67  % Time Elapsed:  1161.68 s \n",
            "Epoch 14 Finished.  Time per Epoch:  79.26 s \n",
            "Iteration:  15 Progress:  50.00  % Time Elapsed:  1195.57 s \n",
            "Iteration:  15 Progress:  50.00  % Time Elapsed:  1202.24 s \n",
            "Iteration:  15 Progress:  50.00  % Time Elapsed:  1208.96 s \n",
            "Iteration:  15 Progress:  50.00  % Time Elapsed:  1215.66 s \n",
            "Iteration:  15 Progress:  50.00  % Time Elapsed:  1222.50 s \n",
            "Iteration:  15 Progress:  50.00  % Time Elapsed:  1229.20 s \n",
            "Iteration:  15 Progress:  50.00  % Time Elapsed:  1235.92 s \n",
            "Iteration:  15 Progress:  50.00  % Time Elapsed:  1241.38 s \n",
            "Epoch 15 Finished.  Time per Epoch:  79.20 s \n",
            "Iteration:  16 Progress:  53.33  % Time Elapsed:  1273.95 s \n",
            "Iteration:  16 Progress:  53.33  % Time Elapsed:  1280.79 s \n",
            "Iteration:  16 Progress:  53.33  % Time Elapsed:  1287.48 s \n",
            "Iteration:  16 Progress:  53.33  % Time Elapsed:  1294.21 s \n",
            "Iteration:  16 Progress:  53.33  % Time Elapsed:  1300.93 s \n",
            "Iteration:  16 Progress:  53.33  % Time Elapsed:  1307.70 s \n",
            "Iteration:  16 Progress:  53.33  % Time Elapsed:  1314.47 s \n",
            "Iteration:  16 Progress:  53.33  % Time Elapsed:  1319.95 s \n",
            "Epoch 16 Finished.  Time per Epoch:  79.12 s \n",
            "Iteration:  17 Progress:  56.67  % Time Elapsed:  1351.74 s \n",
            "Iteration:  17 Progress:  56.67  % Time Elapsed:  1358.39 s \n",
            "Iteration:  17 Progress:  56.67  % Time Elapsed:  1365.12 s \n",
            "Iteration:  17 Progress:  56.67  % Time Elapsed:  1371.77 s \n",
            "Iteration:  17 Progress:  56.67  % Time Elapsed:  1378.50 s \n",
            "Iteration:  17 Progress:  56.67  % Time Elapsed:  1385.15 s \n",
            "Iteration:  17 Progress:  56.67  % Time Elapsed:  1391.82 s \n",
            "Iteration:  17 Progress:  56.67  % Time Elapsed:  1397.32 s \n",
            "Epoch 17 Finished.  Time per Epoch:  79.03 s \n",
            "Iteration:  18 Progress:  60.00  % Time Elapsed:  1429.58 s \n",
            "Iteration:  18 Progress:  60.00  % Time Elapsed:  1437.16 s \n",
            "Iteration:  18 Progress:  60.00  % Time Elapsed:  1443.80 s \n",
            "Iteration:  18 Progress:  60.00  % Time Elapsed:  1450.46 s \n",
            "Iteration:  18 Progress:  60.00  % Time Elapsed:  1457.08 s \n",
            "Iteration:  18 Progress:  60.00  % Time Elapsed:  1463.74 s \n",
            "Iteration:  18 Progress:  60.00  % Time Elapsed:  1470.38 s \n",
            "Iteration:  18 Progress:  60.00  % Time Elapsed:  1475.77 s \n",
            "Epoch 18 Finished.  Time per Epoch:  79.03 s \n",
            "Iteration:  19 Progress:  63.33  % Time Elapsed:  1508.15 s \n",
            "Iteration:  19 Progress:  63.33  % Time Elapsed:  1514.86 s \n",
            "Iteration:  19 Progress:  63.33  % Time Elapsed:  1521.52 s \n",
            "Iteration:  19 Progress:  63.33  % Time Elapsed:  1528.10 s \n",
            "Iteration:  19 Progress:  63.33  % Time Elapsed:  1534.76 s \n",
            "Iteration:  19 Progress:  63.33  % Time Elapsed:  1541.42 s \n",
            "Iteration:  19 Progress:  63.33  % Time Elapsed:  1548.16 s \n",
            "Iteration:  19 Progress:  63.33  % Time Elapsed:  1553.53 s \n",
            "Epoch 19 Finished.  Time per Epoch:  78.91 s \n",
            "Iteration:  20 Progress:  66.67  % Time Elapsed:  1584.86 s \n",
            "Iteration:  20 Progress:  66.67  % Time Elapsed:  1591.52 s \n",
            "Iteration:  20 Progress:  66.67  % Time Elapsed:  1598.17 s \n",
            "Iteration:  20 Progress:  66.67  % Time Elapsed:  1604.83 s \n",
            "Iteration:  20 Progress:  66.67  % Time Elapsed:  1611.51 s \n",
            "Iteration:  20 Progress:  66.67  % Time Elapsed:  1618.19 s \n",
            "Iteration:  20 Progress:  66.67  % Time Elapsed:  1624.89 s \n",
            "Iteration:  20 Progress:  66.67  % Time Elapsed:  1630.32 s \n",
            "Epoch 20 Finished.  Time per Epoch:  78.81 s \n",
            "Iteration:  21 Progress:  70.00  % Time Elapsed:  1661.67 s \n",
            "Iteration:  21 Progress:  70.00  % Time Elapsed:  1668.28 s \n",
            "Iteration:  21 Progress:  70.00  % Time Elapsed:  1674.91 s \n",
            "Iteration:  21 Progress:  70.00  % Time Elapsed:  1681.54 s \n",
            "Iteration:  21 Progress:  70.00  % Time Elapsed:  1688.28 s \n",
            "Iteration:  21 Progress:  70.00  % Time Elapsed:  1694.95 s \n",
            "Iteration:  21 Progress:  70.00  % Time Elapsed:  1701.62 s \n",
            "Iteration:  21 Progress:  70.00  % Time Elapsed:  1707.01 s \n",
            "Epoch 21 Finished.  Time per Epoch:  78.71 s \n",
            "Iteration:  22 Progress:  73.33  % Time Elapsed:  1738.32 s \n",
            "Iteration:  22 Progress:  73.33  % Time Elapsed:  1746.08 s \n",
            "Iteration:  22 Progress:  73.33  % Time Elapsed:  1752.77 s \n",
            "Iteration:  22 Progress:  73.33  % Time Elapsed:  1759.48 s \n",
            "Iteration:  22 Progress:  73.33  % Time Elapsed:  1766.15 s \n",
            "Iteration:  22 Progress:  73.33  % Time Elapsed:  1772.78 s \n",
            "Iteration:  22 Progress:  73.33  % Time Elapsed:  1779.46 s \n",
            "Iteration:  22 Progress:  73.33  % Time Elapsed:  1785.14 s \n",
            "Epoch 22 Finished.  Time per Epoch:  78.70 s \n",
            "Iteration:  23 Progress:  76.67  % Time Elapsed:  1816.67 s \n",
            "Iteration:  23 Progress:  76.67  % Time Elapsed:  1823.43 s \n",
            "Iteration:  23 Progress:  76.67  % Time Elapsed:  1830.14 s \n",
            "Iteration:  23 Progress:  76.67  % Time Elapsed:  1836.80 s \n",
            "Iteration:  23 Progress:  76.67  % Time Elapsed:  1843.77 s \n",
            "Iteration:  23 Progress:  76.67  % Time Elapsed:  1850.54 s \n",
            "Iteration:  23 Progress:  76.67  % Time Elapsed:  1857.27 s \n",
            "Iteration:  23 Progress:  76.67  % Time Elapsed:  1862.71 s \n",
            "Epoch 23 Finished.  Time per Epoch:  78.68 s \n",
            "Iteration:  24 Progress:  80.00  % Time Elapsed:  1895.17 s \n",
            "Iteration:  24 Progress:  80.00  % Time Elapsed:  1901.92 s \n",
            "Iteration:  24 Progress:  80.00  % Time Elapsed:  1908.66 s \n",
            "Iteration:  24 Progress:  80.00  % Time Elapsed:  1915.36 s \n",
            "Iteration:  24 Progress:  80.00  % Time Elapsed:  1922.01 s \n",
            "Iteration:  24 Progress:  80.00  % Time Elapsed:  1928.81 s \n",
            "Iteration:  24 Progress:  80.00  % Time Elapsed:  1935.54 s \n",
            "Iteration:  24 Progress:  80.00  % Time Elapsed:  1940.99 s \n",
            "Epoch 24 Finished.  Time per Epoch:  78.66 s \n",
            "Iteration:  25 Progress:  83.33  % Time Elapsed:  1973.21 s \n",
            "Iteration:  25 Progress:  83.33  % Time Elapsed:  1980.03 s \n",
            "Iteration:  25 Progress:  83.33  % Time Elapsed:  1986.74 s \n",
            "Iteration:  25 Progress:  83.33  % Time Elapsed:  1993.41 s \n",
            "Iteration:  25 Progress:  83.33  % Time Elapsed:  2000.10 s \n",
            "Iteration:  25 Progress:  83.33  % Time Elapsed:  2006.76 s \n",
            "Iteration:  25 Progress:  83.33  % Time Elapsed:  2013.46 s \n",
            "Iteration:  25 Progress:  83.33  % Time Elapsed:  2018.91 s \n",
            "Epoch 25 Finished.  Time per Epoch:  78.62 s \n",
            "Iteration:  26 Progress:  86.67  % Time Elapsed:  2051.07 s \n",
            "Iteration:  26 Progress:  86.67  % Time Elapsed:  2058.78 s \n",
            "Iteration:  26 Progress:  86.67  % Time Elapsed:  2065.48 s \n",
            "Iteration:  26 Progress:  86.67  % Time Elapsed:  2072.17 s \n",
            "Iteration:  26 Progress:  86.67  % Time Elapsed:  2078.90 s \n",
            "Iteration:  26 Progress:  86.67  % Time Elapsed:  2085.60 s \n",
            "Iteration:  26 Progress:  86.67  % Time Elapsed:  2092.90 s \n",
            "Iteration:  26 Progress:  86.67  % Time Elapsed:  2098.29 s \n",
            "Epoch 26 Finished.  Time per Epoch:  78.66 s \n",
            "Iteration:  27 Progress:  90.00  % Time Elapsed:  2130.51 s \n",
            "Iteration:  27 Progress:  90.00  % Time Elapsed:  2137.21 s \n",
            "Iteration:  27 Progress:  90.00  % Time Elapsed:  2143.94 s \n",
            "Iteration:  27 Progress:  90.00  % Time Elapsed:  2150.58 s \n",
            "Iteration:  27 Progress:  90.00  % Time Elapsed:  2157.33 s \n",
            "Iteration:  27 Progress:  90.00  % Time Elapsed:  2164.03 s \n",
            "Iteration:  27 Progress:  90.00  % Time Elapsed:  2170.78 s \n",
            "Iteration:  27 Progress:  90.00  % Time Elapsed:  2176.22 s \n",
            "Epoch 27 Finished.  Time per Epoch:  78.63 s \n",
            "Iteration:  28 Progress:  93.33  % Time Elapsed:  2208.39 s \n",
            "Iteration:  28 Progress:  93.33  % Time Elapsed:  2215.09 s \n",
            "Iteration:  28 Progress:  93.33  % Time Elapsed:  2221.77 s \n",
            "Iteration:  28 Progress:  93.33  % Time Elapsed:  2228.47 s \n",
            "Iteration:  28 Progress:  93.33  % Time Elapsed:  2235.17 s \n",
            "Iteration:  28 Progress:  93.33  % Time Elapsed:  2241.93 s \n",
            "Iteration:  28 Progress:  93.33  % Time Elapsed:  2248.67 s \n",
            "Iteration:  28 Progress:  93.33  % Time Elapsed:  2254.10 s \n",
            "Epoch 28 Finished.  Time per Epoch:  78.60 s \n",
            "Iteration:  29 Progress:  96.67  % Time Elapsed:  2286.09 s \n",
            "Iteration:  29 Progress:  96.67  % Time Elapsed:  2292.82 s \n",
            "Iteration:  29 Progress:  96.67  % Time Elapsed:  2299.55 s \n",
            "Iteration:  29 Progress:  96.67  % Time Elapsed:  2306.26 s \n",
            "Iteration:  29 Progress:  96.67  % Time Elapsed:  2312.97 s \n",
            "Iteration:  29 Progress:  96.67  % Time Elapsed:  2319.67 s \n",
            "Iteration:  29 Progress:  96.67  % Time Elapsed:  2326.36 s \n",
            "Iteration:  29 Progress:  96.67  % Time Elapsed:  2331.81 s \n",
            "Epoch 29 Finished.  Time per Epoch:  78.57 s \n"
          ],
          "name": "stdout"
        },
        {
          "output_type": "display_data",
          "data": {
            "image/png": "[encoded data removed]",
            "text/plain": [
              "<Figure size 432x288 with 1 Axes>"
            ]
          },
          "metadata": {
            "tags": [],
            "needs_background": "light"
          }
        },
        {
          "output_type": "display_data",
          "data": {
            "image/png": "[encoded data removed]",
            "text/plain": [
              "<Figure size 432x288 with 1 Axes>"
            ]
          },
          "metadata": {
            "tags": [],
            "needs_background": "light"
          }
        },
        {
          "output_type": "stream",
          "text": [
            "Final Training Accuracy: 0.9941131302789864\n",
            "Final Validation Accuracy: 0.9444444444444444\n",
            "Total time:   2356.96 s  Time per Epoch:  78.57 s \n"
          ],
          "name": "stdout"
        }
      ]
    },
    {
      "cell_type": "code",
      "metadata": {
        "id": "tZjzGYW4MFYH",
        "colab_type": "code",
        "colab": {
          "base_uri": "https://localhost:8080/",
          "height": 1000
        },
        "outputId": "a6508826-f4d1-4f23-e408-7751aad6dfbf"
      },
      "source": [
        "use_cuda = True\n",
        "from torchvision import datasets, models, transforms\n",
        "device = torch.device(\"cuda:0\" if torch.cuda.is_available() else \"cpu\")\n",
        "model_ft_2 = models.resnet34(pretrained=True)\n",
        "\n",
        "#for param in model_ft_2.parameters():\n",
        "#    param.requires_grad = False\n",
        "\n",
        "model_ft_2 = model_ft_2.to(device)\n",
        "\n",
        "num_ftrs_2 = model_ft_2.fc.in_features\n",
        "model_ft_2.fc = nn.Linear(num_ftrs_2, 91)\n",
        "\n",
        "##lr = 0.001\n",
        "train_transfer(model_ft_2.cuda(), train_dataset, batch_size=1000, num_epochs=30,weight_decay = 0.000)"
      ],
      "execution_count": null,
      "outputs": [
        {
          "output_type": "stream",
          "text": [
            "Iteration:  0 Progress:   0.00  % Time Elapsed:   1.72 s \n",
            "Iteration:  0 Progress:   0.00  % Time Elapsed:   3.41 s \n",
            "Iteration:  0 Progress:   0.00  % Time Elapsed:   5.07 s \n",
            "Iteration:  0 Progress:   0.00  % Time Elapsed:   6.80 s \n",
            "Iteration:  0 Progress:   0.00  % Time Elapsed:   8.54 s \n",
            "Iteration:  0 Progress:   0.00  % Time Elapsed:  10.26 s \n",
            "Iteration:  0 Progress:   0.00  % Time Elapsed:  11.92 s \n",
            "Iteration:  0 Progress:   0.00  % Time Elapsed:  13.23 s \n",
            "Epoch 0 Finished.  Time per Epoch:  28.55 s \n",
            "Iteration:  1 Progress:   3.33  % Time Elapsed:  30.28 s \n",
            "Iteration:  1 Progress:   3.33  % Time Elapsed:  32.02 s \n",
            "Iteration:  1 Progress:   3.33  % Time Elapsed:  33.77 s \n",
            "Iteration:  1 Progress:   3.33  % Time Elapsed:  35.50 s \n",
            "Iteration:  1 Progress:   3.33  % Time Elapsed:  37.24 s \n",
            "Iteration:  1 Progress:   3.33  % Time Elapsed:  38.99 s \n",
            "Iteration:  1 Progress:   3.33  % Time Elapsed:  40.73 s \n",
            "Iteration:  1 Progress:   3.33  % Time Elapsed:  42.11 s \n",
            "Epoch 1 Finished.  Time per Epoch:  28.49 s \n",
            "Iteration:  2 Progress:   6.67  % Time Elapsed:  58.72 s \n",
            "Iteration:  2 Progress:   6.67  % Time Elapsed:  60.47 s \n",
            "Iteration:  2 Progress:   6.67  % Time Elapsed:  62.17 s \n",
            "Iteration:  2 Progress:   6.67  % Time Elapsed:  63.83 s \n",
            "Iteration:  2 Progress:   6.67  % Time Elapsed:  65.56 s \n",
            "Iteration:  2 Progress:   6.67  % Time Elapsed:  67.31 s \n",
            "Iteration:  2 Progress:   6.67  % Time Elapsed:  69.06 s \n",
            "Iteration:  2 Progress:   6.67  % Time Elapsed:  70.40 s \n",
            "Epoch 2 Finished.  Time per Epoch:  28.50 s \n",
            "Iteration:  3 Progress:  10.00  % Time Elapsed:  87.17 s \n",
            "Iteration:  3 Progress:  10.00  % Time Elapsed:  88.84 s \n",
            "Iteration:  3 Progress:  10.00  % Time Elapsed:  90.54 s \n",
            "Iteration:  3 Progress:  10.00  % Time Elapsed:  92.29 s \n",
            "Iteration:  3 Progress:  10.00  % Time Elapsed:  94.03 s \n",
            "Iteration:  3 Progress:  10.00  % Time Elapsed:  95.76 s \n",
            "Iteration:  3 Progress:  10.00  % Time Elapsed:  97.49 s \n",
            "Iteration:  3 Progress:  10.00  % Time Elapsed:  98.87 s \n",
            "Epoch 3 Finished.  Time per Epoch:  28.57 s \n",
            "Iteration:  4 Progress:  13.33  % Time Elapsed:  116.27 s \n",
            "Iteration:  4 Progress:  13.33  % Time Elapsed:  118.33 s \n",
            "Iteration:  4 Progress:  13.33  % Time Elapsed:  120.36 s \n",
            "Iteration:  4 Progress:  13.33  % Time Elapsed:  122.28 s \n",
            "Iteration:  4 Progress:  13.33  % Time Elapsed:  124.02 s \n",
            "Iteration:  4 Progress:  13.33  % Time Elapsed:  125.74 s \n",
            "Iteration:  4 Progress:  13.33  % Time Elapsed:  127.50 s \n",
            "Iteration:  4 Progress:  13.33  % Time Elapsed:  128.88 s \n",
            "Epoch 4 Finished.  Time per Epoch:  28.71 s \n",
            "Iteration:  5 Progress:  16.67  % Time Elapsed:  145.28 s \n",
            "Iteration:  5 Progress:  16.67  % Time Elapsed:  147.00 s \n",
            "Iteration:  5 Progress:  16.67  % Time Elapsed:  148.75 s \n",
            "Iteration:  5 Progress:  16.67  % Time Elapsed:  150.46 s \n",
            "Iteration:  5 Progress:  16.67  % Time Elapsed:  152.23 s \n",
            "Iteration:  5 Progress:  16.67  % Time Elapsed:  154.06 s \n",
            "Iteration:  5 Progress:  16.67  % Time Elapsed:  155.85 s \n",
            "Iteration:  5 Progress:  16.67  % Time Elapsed:  157.26 s \n",
            "Epoch 5 Finished.  Time per Epoch:  28.67 s \n",
            "Iteration:  6 Progress:  20.00  % Time Elapsed:  173.78 s \n",
            "Iteration:  6 Progress:  20.00  % Time Elapsed:  175.51 s \n",
            "Iteration:  6 Progress:  20.00  % Time Elapsed:  177.25 s \n",
            "Iteration:  6 Progress:  20.00  % Time Elapsed:  178.92 s \n",
            "Iteration:  6 Progress:  20.00  % Time Elapsed:  180.60 s \n",
            "Iteration:  6 Progress:  20.00  % Time Elapsed:  182.35 s \n",
            "Iteration:  6 Progress:  20.00  % Time Elapsed:  184.11 s \n",
            "Iteration:  6 Progress:  20.00  % Time Elapsed:  185.49 s \n",
            "Epoch 6 Finished.  Time per Epoch:  28.62 s \n",
            "Iteration:  7 Progress:  23.33  % Time Elapsed:  202.09 s \n",
            "Iteration:  7 Progress:  23.33  % Time Elapsed:  203.84 s \n",
            "Iteration:  7 Progress:  23.33  % Time Elapsed:  205.57 s \n",
            "Iteration:  7 Progress:  23.33  % Time Elapsed:  207.30 s \n",
            "Iteration:  7 Progress:  23.33  % Time Elapsed:  209.03 s \n",
            "Iteration:  7 Progress:  23.33  % Time Elapsed:  210.76 s \n",
            "Iteration:  7 Progress:  23.33  % Time Elapsed:  212.49 s \n",
            "Iteration:  7 Progress:  23.33  % Time Elapsed:  213.87 s \n",
            "Epoch 7 Finished.  Time per Epoch:  28.61 s \n",
            "Iteration:  8 Progress:  26.67  % Time Elapsed:  230.61 s \n",
            "Iteration:  8 Progress:  26.67  % Time Elapsed:  232.30 s \n",
            "Iteration:  8 Progress:  26.67  % Time Elapsed:  234.11 s \n",
            "Iteration:  8 Progress:  26.67  % Time Elapsed:  235.89 s \n",
            "Iteration:  8 Progress:  26.67  % Time Elapsed:  237.65 s \n",
            "Iteration:  8 Progress:  26.67  % Time Elapsed:  239.44 s \n",
            "Iteration:  8 Progress:  26.67  % Time Elapsed:  241.20 s \n",
            "Iteration:  8 Progress:  26.67  % Time Elapsed:  242.58 s \n",
            "Epoch 8 Finished.  Time per Epoch:  28.62 s \n",
            "Iteration:  9 Progress:  30.00  % Time Elapsed:  259.25 s \n",
            "Iteration:  9 Progress:  30.00  % Time Elapsed:  261.00 s \n",
            "Iteration:  9 Progress:  30.00  % Time Elapsed:  262.70 s \n",
            "Iteration:  9 Progress:  30.00  % Time Elapsed:  264.40 s \n",
            "Iteration:  9 Progress:  30.00  % Time Elapsed:  266.05 s \n",
            "Iteration:  9 Progress:  30.00  % Time Elapsed:  267.71 s \n",
            "Iteration:  9 Progress:  30.00  % Time Elapsed:  269.44 s \n",
            "Iteration:  9 Progress:  30.00  % Time Elapsed:  270.80 s \n",
            "Epoch 9 Finished.  Time per Epoch:  28.56 s \n",
            "Iteration:  10 Progress:  33.33  % Time Elapsed:  287.29 s \n",
            "Iteration:  10 Progress:  33.33  % Time Elapsed:  289.02 s \n",
            "Iteration:  10 Progress:  33.33  % Time Elapsed:  290.75 s \n",
            "Iteration:  10 Progress:  33.33  % Time Elapsed:  292.43 s \n",
            "Iteration:  10 Progress:  33.33  % Time Elapsed:  294.16 s \n",
            "Iteration:  10 Progress:  33.33  % Time Elapsed:  295.90 s \n",
            "Iteration:  10 Progress:  33.33  % Time Elapsed:  297.62 s \n",
            "Iteration:  10 Progress:  33.33  % Time Elapsed:  298.98 s \n",
            "Epoch 10 Finished.  Time per Epoch:  28.54 s \n",
            "Iteration:  11 Progress:  36.67  % Time Elapsed:  315.67 s \n",
            "Iteration:  11 Progress:  36.67  % Time Elapsed:  317.37 s \n",
            "Iteration:  11 Progress:  36.67  % Time Elapsed:  319.13 s \n",
            "Iteration:  11 Progress:  36.67  % Time Elapsed:  320.88 s \n",
            "Iteration:  11 Progress:  36.67  % Time Elapsed:  322.60 s \n",
            "Iteration:  11 Progress:  36.67  % Time Elapsed:  324.33 s \n",
            "Iteration:  11 Progress:  36.67  % Time Elapsed:  326.19 s \n",
            "Iteration:  11 Progress:  36.67  % Time Elapsed:  327.68 s \n",
            "Epoch 11 Finished.  Time per Epoch:  28.55 s \n",
            "Iteration:  12 Progress:  40.00  % Time Elapsed:  344.35 s \n",
            "Iteration:  12 Progress:  40.00  % Time Elapsed:  346.09 s \n",
            "Iteration:  12 Progress:  40.00  % Time Elapsed:  347.84 s \n",
            "Iteration:  12 Progress:  40.00  % Time Elapsed:  349.56 s \n",
            "Iteration:  12 Progress:  40.00  % Time Elapsed:  351.26 s \n",
            "Iteration:  12 Progress:  40.00  % Time Elapsed:  352.93 s \n",
            "Iteration:  12 Progress:  40.00  % Time Elapsed:  354.50 s \n",
            "Iteration:  12 Progress:  40.00  % Time Elapsed:  355.86 s \n",
            "Epoch 12 Finished.  Time per Epoch:  28.51 s \n",
            "Iteration:  13 Progress:  43.33  % Time Elapsed:  372.40 s \n",
            "Iteration:  13 Progress:  43.33  % Time Elapsed:  374.13 s \n",
            "Iteration:  13 Progress:  43.33  % Time Elapsed:  375.86 s \n",
            "Iteration:  13 Progress:  43.33  % Time Elapsed:  377.57 s \n",
            "Iteration:  13 Progress:  43.33  % Time Elapsed:  379.29 s \n",
            "Iteration:  13 Progress:  43.33  % Time Elapsed:  381.02 s \n",
            "Iteration:  13 Progress:  43.33  % Time Elapsed:  382.75 s \n",
            "Iteration:  13 Progress:  43.33  % Time Elapsed:  384.11 s \n",
            "Epoch 13 Finished.  Time per Epoch:  28.52 s \n",
            "Iteration:  14 Progress:  46.67  % Time Elapsed:  401.09 s \n",
            "Iteration:  14 Progress:  46.67  % Time Elapsed:  402.83 s \n",
            "Iteration:  14 Progress:  46.67  % Time Elapsed:  404.56 s \n",
            "Iteration:  14 Progress:  46.67  % Time Elapsed:  406.29 s \n",
            "Iteration:  14 Progress:  46.67  % Time Elapsed:  407.99 s \n",
            "Iteration:  14 Progress:  46.67  % Time Elapsed:  409.74 s \n",
            "Iteration:  14 Progress:  46.67  % Time Elapsed:  411.46 s \n",
            "Iteration:  14 Progress:  46.67  % Time Elapsed:  412.82 s \n",
            "Epoch 14 Finished.  Time per Epoch:  28.59 s \n",
            "Iteration:  15 Progress:  50.00  % Time Elapsed:  430.77 s \n",
            "Iteration:  15 Progress:  50.00  % Time Elapsed:  432.71 s \n",
            "Iteration:  15 Progress:  50.00  % Time Elapsed:  434.42 s \n",
            "Iteration:  15 Progress:  50.00  % Time Elapsed:  436.16 s \n",
            "Iteration:  15 Progress:  50.00  % Time Elapsed:  437.89 s \n",
            "Iteration:  15 Progress:  50.00  % Time Elapsed:  439.59 s \n",
            "Iteration:  15 Progress:  50.00  % Time Elapsed:  441.25 s \n",
            "Iteration:  15 Progress:  50.00  % Time Elapsed:  442.61 s \n",
            "Epoch 15 Finished.  Time per Epoch:  28.59 s \n",
            "Iteration:  16 Progress:  53.33  % Time Elapsed:  459.12 s \n",
            "Iteration:  16 Progress:  53.33  % Time Elapsed:  460.73 s \n",
            "Iteration:  16 Progress:  53.33  % Time Elapsed:  462.46 s \n",
            "Iteration:  16 Progress:  53.33  % Time Elapsed:  464.18 s \n",
            "Iteration:  16 Progress:  53.33  % Time Elapsed:  465.89 s \n",
            "Iteration:  16 Progress:  53.33  % Time Elapsed:  467.60 s \n",
            "Iteration:  16 Progress:  53.33  % Time Elapsed:  469.33 s \n",
            "Iteration:  16 Progress:  53.33  % Time Elapsed:  470.68 s \n",
            "Epoch 16 Finished.  Time per Epoch:  28.58 s \n",
            "Iteration:  17 Progress:  56.67  % Time Elapsed:  487.54 s \n",
            "Iteration:  17 Progress:  56.67  % Time Elapsed:  489.26 s \n",
            "Iteration:  17 Progress:  56.67  % Time Elapsed:  490.97 s \n",
            "Iteration:  17 Progress:  56.67  % Time Elapsed:  492.69 s \n",
            "Iteration:  17 Progress:  56.67  % Time Elapsed:  494.39 s \n",
            "Iteration:  17 Progress:  56.67  % Time Elapsed:  496.00 s \n",
            "Iteration:  17 Progress:  56.67  % Time Elapsed:  497.73 s \n",
            "Iteration:  17 Progress:  56.67  % Time Elapsed:  499.09 s \n",
            "Epoch 17 Finished.  Time per Epoch:  28.54 s \n",
            "Iteration:  18 Progress:  60.00  % Time Elapsed:  515.45 s \n",
            "Iteration:  18 Progress:  60.00  % Time Elapsed:  517.09 s \n",
            "Iteration:  18 Progress:  60.00  % Time Elapsed:  518.82 s \n",
            "Iteration:  18 Progress:  60.00  % Time Elapsed:  520.50 s \n",
            "Iteration:  18 Progress:  60.00  % Time Elapsed:  522.20 s \n",
            "Iteration:  18 Progress:  60.00  % Time Elapsed:  523.93 s \n",
            "Iteration:  18 Progress:  60.00  % Time Elapsed:  525.65 s \n",
            "Iteration:  18 Progress:  60.00  % Time Elapsed:  527.02 s \n",
            "Epoch 18 Finished.  Time per Epoch:  28.51 s \n",
            "Iteration:  19 Progress:  63.33  % Time Elapsed:  543.44 s \n",
            "Iteration:  19 Progress:  63.33  % Time Elapsed:  545.19 s \n",
            "Iteration:  19 Progress:  63.33  % Time Elapsed:  546.91 s \n",
            "Iteration:  19 Progress:  63.33  % Time Elapsed:  548.63 s \n",
            "Iteration:  19 Progress:  63.33  % Time Elapsed:  550.36 s \n",
            "Iteration:  19 Progress:  63.33  % Time Elapsed:  552.08 s \n",
            "Iteration:  19 Progress:  63.33  % Time Elapsed:  553.78 s \n",
            "Iteration:  19 Progress:  63.33  % Time Elapsed:  555.19 s \n",
            "Epoch 19 Finished.  Time per Epoch:  28.51 s \n",
            "Iteration:  20 Progress:  66.67  % Time Elapsed:  571.95 s \n",
            "Iteration:  20 Progress:  66.67  % Time Elapsed:  573.67 s \n",
            "Iteration:  20 Progress:  66.67  % Time Elapsed:  575.34 s \n",
            "Iteration:  20 Progress:  66.67  % Time Elapsed:  576.99 s \n",
            "Iteration:  20 Progress:  66.67  % Time Elapsed:  578.70 s \n",
            "Iteration:  20 Progress:  66.67  % Time Elapsed:  580.42 s \n",
            "Iteration:  20 Progress:  66.67  % Time Elapsed:  582.14 s \n",
            "Iteration:  20 Progress:  66.67  % Time Elapsed:  583.50 s \n",
            "Epoch 20 Finished.  Time per Epoch:  28.49 s \n",
            "Iteration:  21 Progress:  70.00  % Time Elapsed:  599.99 s \n",
            "Iteration:  21 Progress:  70.00  % Time Elapsed:  601.74 s \n",
            "Iteration:  21 Progress:  70.00  % Time Elapsed:  603.41 s \n",
            "Iteration:  21 Progress:  70.00  % Time Elapsed:  605.15 s \n",
            "Iteration:  21 Progress:  70.00  % Time Elapsed:  606.87 s \n",
            "Iteration:  21 Progress:  70.00  % Time Elapsed:  608.62 s \n",
            "Iteration:  21 Progress:  70.00  % Time Elapsed:  610.36 s \n",
            "Iteration:  21 Progress:  70.00  % Time Elapsed:  611.72 s \n",
            "Epoch 21 Finished.  Time per Epoch:  28.48 s \n",
            "Iteration:  22 Progress:  73.33  % Time Elapsed:  628.22 s \n",
            "Iteration:  22 Progress:  73.33  % Time Elapsed:  629.94 s \n",
            "Iteration:  22 Progress:  73.33  % Time Elapsed:  631.87 s \n",
            "Iteration:  22 Progress:  73.33  % Time Elapsed:  633.77 s \n",
            "Iteration:  22 Progress:  73.33  % Time Elapsed:  635.69 s \n",
            "Iteration:  22 Progress:  73.33  % Time Elapsed:  637.43 s \n",
            "Iteration:  22 Progress:  73.33  % Time Elapsed:  639.23 s \n",
            "Iteration:  22 Progress:  73.33  % Time Elapsed:  640.60 s \n",
            "Epoch 22 Finished.  Time per Epoch:  28.50 s \n",
            "Iteration:  23 Progress:  76.67  % Time Elapsed:  657.34 s \n",
            "Iteration:  23 Progress:  76.67  % Time Elapsed:  659.07 s \n",
            "Iteration:  23 Progress:  76.67  % Time Elapsed:  660.81 s \n",
            "Iteration:  23 Progress:  76.67  % Time Elapsed:  662.54 s \n",
            "Iteration:  23 Progress:  76.67  % Time Elapsed:  664.29 s \n",
            "Iteration:  23 Progress:  76.67  % Time Elapsed:  666.00 s \n",
            "Iteration:  23 Progress:  76.67  % Time Elapsed:  667.75 s \n",
            "Iteration:  23 Progress:  76.67  % Time Elapsed:  669.12 s \n",
            "Epoch 23 Finished.  Time per Epoch:  28.51 s \n",
            "Iteration:  24 Progress:  80.00  % Time Elapsed:  685.88 s \n",
            "Iteration:  24 Progress:  80.00  % Time Elapsed:  687.63 s \n",
            "Iteration:  24 Progress:  80.00  % Time Elapsed:  689.35 s \n",
            "Iteration:  24 Progress:  80.00  % Time Elapsed:  691.10 s \n",
            "Iteration:  24 Progress:  80.00  % Time Elapsed:  692.73 s \n",
            "Iteration:  24 Progress:  80.00  % Time Elapsed:  694.41 s \n",
            "Iteration:  24 Progress:  80.00  % Time Elapsed:  696.16 s \n",
            "Iteration:  24 Progress:  80.00  % Time Elapsed:  697.54 s \n",
            "Epoch 24 Finished.  Time per Epoch:  28.50 s \n",
            "Iteration:  25 Progress:  83.33  % Time Elapsed:  714.12 s \n",
            "Iteration:  25 Progress:  83.33  % Time Elapsed:  715.92 s \n",
            "Iteration:  25 Progress:  83.33  % Time Elapsed:  717.73 s \n",
            "Iteration:  25 Progress:  83.33  % Time Elapsed:  719.53 s \n",
            "Iteration:  25 Progress:  83.33  % Time Elapsed:  721.30 s \n",
            "Iteration:  25 Progress:  83.33  % Time Elapsed:  723.12 s \n",
            "Iteration:  25 Progress:  83.33  % Time Elapsed:  724.91 s \n",
            "Iteration:  25 Progress:  83.33  % Time Elapsed:  726.31 s \n",
            "Epoch 25 Finished.  Time per Epoch:  28.58 s \n",
            "Iteration:  26 Progress:  86.67  % Time Elapsed:  744.73 s \n",
            "Iteration:  26 Progress:  86.67  % Time Elapsed:  746.46 s \n",
            "Iteration:  26 Progress:  86.67  % Time Elapsed:  748.18 s \n",
            "Iteration:  26 Progress:  86.67  % Time Elapsed:  749.90 s \n",
            "Iteration:  26 Progress:  86.67  % Time Elapsed:  751.65 s \n",
            "Iteration:  26 Progress:  86.67  % Time Elapsed:  753.41 s \n",
            "Iteration:  26 Progress:  86.67  % Time Elapsed:  755.16 s \n",
            "Iteration:  26 Progress:  86.67  % Time Elapsed:  756.45 s \n",
            "Epoch 26 Finished.  Time per Epoch:  28.57 s \n",
            "Iteration:  27 Progress:  90.00  % Time Elapsed:  773.13 s \n",
            "Iteration:  27 Progress:  90.00  % Time Elapsed:  774.80 s \n",
            "Iteration:  27 Progress:  90.00  % Time Elapsed:  776.52 s \n",
            "Iteration:  27 Progress:  90.00  % Time Elapsed:  778.27 s \n",
            "Iteration:  27 Progress:  90.00  % Time Elapsed:  780.02 s \n",
            "Iteration:  27 Progress:  90.00  % Time Elapsed:  781.78 s \n",
            "Iteration:  27 Progress:  90.00  % Time Elapsed:  783.52 s \n",
            "Iteration:  27 Progress:  90.00  % Time Elapsed:  784.91 s \n",
            "Epoch 27 Finished.  Time per Epoch:  28.58 s \n",
            "Iteration:  28 Progress:  93.33  % Time Elapsed:  801.84 s \n",
            "Iteration:  28 Progress:  93.33  % Time Elapsed:  803.62 s \n",
            "Iteration:  28 Progress:  93.33  % Time Elapsed:  805.42 s \n",
            "Iteration:  28 Progress:  93.33  % Time Elapsed:  807.15 s \n",
            "Iteration:  28 Progress:  93.33  % Time Elapsed:  808.90 s \n",
            "Iteration:  28 Progress:  93.33  % Time Elapsed:  810.65 s \n",
            "Iteration:  28 Progress:  93.33  % Time Elapsed:  812.42 s \n",
            "Iteration:  28 Progress:  93.33  % Time Elapsed:  813.79 s \n",
            "Epoch 28 Finished.  Time per Epoch:  28.58 s \n",
            "Iteration:  29 Progress:  96.67  % Time Elapsed:  830.50 s \n",
            "Iteration:  29 Progress:  96.67  % Time Elapsed:  832.20 s \n",
            "Iteration:  29 Progress:  96.67  % Time Elapsed:  833.97 s \n",
            "Iteration:  29 Progress:  96.67  % Time Elapsed:  835.73 s \n",
            "Iteration:  29 Progress:  96.67  % Time Elapsed:  837.38 s \n",
            "Iteration:  29 Progress:  96.67  % Time Elapsed:  839.11 s \n",
            "Iteration:  29 Progress:  96.67  % Time Elapsed:  840.73 s \n",
            "Iteration:  29 Progress:  96.67  % Time Elapsed:  842.07 s \n",
            "Epoch 29 Finished.  Time per Epoch:  28.57 s \n"
          ],
          "name": "stdout"
        },
        {
          "output_type": "display_data",
          "data": {
            "image/png": "[encoded data removed]",
            "text/plain": [
              "<Figure size 432x288 with 1 Axes>"
            ]
          },
          "metadata": {
            "tags": [],
            "needs_background": "light"
          }
        },
        {
          "output_type": "display_data",
          "data": {
            "image/png": "[encoded data removed]",
            "text/plain": [
              "<Figure size 432x288 with 1 Axes>"
            ]
          },
          "metadata": {
            "tags": [],
            "needs_background": "light"
          }
        },
        {
          "output_type": "stream",
          "text": [
            "Final Training Accuracy: 0.9952491011813046\n",
            "Final Validation Accuracy: 0.9710444674250258\n",
            "Total time:   857.01 s  Time per Epoch:  28.57 s \n"
          ],
          "name": "stdout"
        }
      ]
    },
    {
      "cell_type": "markdown",
      "metadata": {
        "id": "6gRr88A6Kx7o",
        "colab_type": "text"
      },
      "source": [
        "# Data Visualization"
      ]
    },
    {
      "cell_type": "code",
      "metadata": {
        "id": "9h1_WwEfK0Hy",
        "colab_type": "code",
        "colab": {
          "base_uri": "https://localhost:8080/",
          "height": 386
        },
        "outputId": "9d17554b-55a5-43ea-a3b0-ea1e74bd0f7e"
      },
      "source": [
        "# Visualize some sample data\n",
        "train = '/content/drive/My Drive/aps360/data1/train'\n",
        "\n",
        "data_transform = transforms.Compose(\n",
        "        [transforms.ToTensor(),transforms.Normalize((0.5, 0.5, 0.5), (0.5, 0.5, 0.5))])\n",
        "train_dataset = torchvision.datasets.ImageFolder(root=train,transform=data_transform)\n",
        "\n",
        "train_loader = torch.utils.data.DataLoader(train_dataset, batch_size=32, shuffle=True)\n",
        "\n",
        "import numpy as np\n",
        "import matplotlib.pyplot as plt\n",
        "\n",
        "classes = np.array(['!','(',')','+','-','0','1','2','3','4','5','6',\n",
        "           '7','8','9','=','A','B','D','E','F','G','H','I',\n",
        "           'J','L','M','N','Q','R','T','Y','\\delta','[',']','a',\n",
        "           r'\\alpha','|','b',r'\\beta','c','d','\\div','e','\\exists','f',r'\\forall','\\diagup',\n",
        "           'g','\\gamma','\\geq','\\gt','h','i','\\in','\\infty','\\int','j',\n",
        "           'k','l','\\lambda','\\ldots','\\leq','\\lt','m','\\mu','n',r'\\neq','p','\\phi',\n",
        "           '\\pi','\\pm','\\prime','q','r',r'\\rightarrow','s','\\sigma','\\sqrt{}','\\sum','t',r'\\theta',\n",
        "           r'\\times','u','v','w','x','y','z','{','}'])\n",
        "\n",
        "print(len(classes))\n",
        "\n",
        "# obtain one batch of training images\n",
        "dataiter = iter(train_loader)\n",
        "images, labels = dataiter.next()\n",
        "images = images.numpy() # convert images to numpy for display\n",
        "\n",
        "# plot the images in the batch, along with the corresponding labels\n",
        "fig = plt.figure(figsize=(25, 4))\n",
        "for idx in np.arange(20):\n",
        "    ax = fig.add_subplot(2, 20/2, idx+1, xticks=[], yticks=[])\n",
        "    plt.imshow(np.transpose(images[idx], (1, 2, 0)))\n",
        "    ax.set_title(classes[labels[idx]])"
      ],
      "execution_count": null,
      "outputs": [
        {
          "output_type": "stream",
          "text": [
            "91\n"
          ],
          "name": "stdout"
        },
        {
          "output_type": "error",
          "ename": "RuntimeError",
          "evalue": "ignored",
          "traceback": [
            "\u001b[0;31m---------------------------------------------------------------------------\u001b[0m",
            "\u001b[0;31mRuntimeError\u001b[0m                              Traceback (most recent call last)",
            "\u001b[0;32m<ipython-input-9-31d0d6fe5ba2>\u001b[0m in \u001b[0;36m<module>\u001b[0;34m()\u001b[0m\n\u001b[1;32m     24\u001b[0m \u001b[0;31m# obtain one batch of training images\u001b[0m\u001b[0;34m\u001b[0m\u001b[0;34m\u001b[0m\u001b[0;34m\u001b[0m\u001b[0m\n\u001b[1;32m     25\u001b[0m \u001b[0mdataiter\u001b[0m \u001b[0;34m=\u001b[0m \u001b[0miter\u001b[0m\u001b[0;34m(\u001b[0m\u001b[0mtrain_loader\u001b[0m\u001b[0;34m)\u001b[0m\u001b[0;34m\u001b[0m\u001b[0;34m\u001b[0m\u001b[0m\n\u001b[0;32m---> 26\u001b[0;31m \u001b[0mimages\u001b[0m\u001b[0;34m,\u001b[0m \u001b[0mlabels\u001b[0m \u001b[0;34m=\u001b[0m \u001b[0mdataiter\u001b[0m\u001b[0;34m.\u001b[0m\u001b[0mnext\u001b[0m\u001b[0;34m(\u001b[0m\u001b[0;34m)\u001b[0m\u001b[0;34m\u001b[0m\u001b[0;34m\u001b[0m\u001b[0m\n\u001b[0m\u001b[1;32m     27\u001b[0m \u001b[0mimages\u001b[0m \u001b[0;34m=\u001b[0m \u001b[0mimages\u001b[0m\u001b[0;34m.\u001b[0m\u001b[0mnumpy\u001b[0m\u001b[0;34m(\u001b[0m\u001b[0;34m)\u001b[0m \u001b[0;31m# convert images to numpy for display\u001b[0m\u001b[0;34m\u001b[0m\u001b[0;34m\u001b[0m\u001b[0m\n\u001b[1;32m     28\u001b[0m \u001b[0;34m\u001b[0m\u001b[0m\n",
            "\u001b[0;32m/usr/local/lib/python3.6/dist-packages/torch/utils/data/dataloader.py\u001b[0m in \u001b[0;36m__next__\u001b[0;34m(self)\u001b[0m\n\u001b[1;32m    361\u001b[0m \u001b[0;34m\u001b[0m\u001b[0m\n\u001b[1;32m    362\u001b[0m     \u001b[0;32mdef\u001b[0m \u001b[0m__next__\u001b[0m\u001b[0;34m(\u001b[0m\u001b[0mself\u001b[0m\u001b[0;34m)\u001b[0m\u001b[0;34m:\u001b[0m\u001b[0;34m\u001b[0m\u001b[0;34m\u001b[0m\u001b[0m\n\u001b[0;32m--> 363\u001b[0;31m         \u001b[0mdata\u001b[0m \u001b[0;34m=\u001b[0m \u001b[0mself\u001b[0m\u001b[0;34m.\u001b[0m\u001b[0m_next_data\u001b[0m\u001b[0;34m(\u001b[0m\u001b[0;34m)\u001b[0m\u001b[0;34m\u001b[0m\u001b[0;34m\u001b[0m\u001b[0m\n\u001b[0m\u001b[1;32m    364\u001b[0m         \u001b[0mself\u001b[0m\u001b[0;34m.\u001b[0m\u001b[0m_num_yielded\u001b[0m \u001b[0;34m+=\u001b[0m \u001b[0;36m1\u001b[0m\u001b[0;34m\u001b[0m\u001b[0;34m\u001b[0m\u001b[0m\n\u001b[1;32m    365\u001b[0m         \u001b[0;32mif\u001b[0m \u001b[0mself\u001b[0m\u001b[0;34m.\u001b[0m\u001b[0m_dataset_kind\u001b[0m \u001b[0;34m==\u001b[0m \u001b[0m_DatasetKind\u001b[0m\u001b[0;34m.\u001b[0m\u001b[0mIterable\u001b[0m \u001b[0;32mand\u001b[0m\u001b[0;31m \u001b[0m\u001b[0;31m\\\u001b[0m\u001b[0;34m\u001b[0m\u001b[0;34m\u001b[0m\u001b[0m\n",
            "\u001b[0;32m/usr/local/lib/python3.6/dist-packages/torch/utils/data/dataloader.py\u001b[0m in \u001b[0;36m_next_data\u001b[0;34m(self)\u001b[0m\n\u001b[1;32m    401\u001b[0m     \u001b[0;32mdef\u001b[0m \u001b[0m_next_data\u001b[0m\u001b[0;34m(\u001b[0m\u001b[0mself\u001b[0m\u001b[0;34m)\u001b[0m\u001b[0;34m:\u001b[0m\u001b[0;34m\u001b[0m\u001b[0;34m\u001b[0m\u001b[0m\n\u001b[1;32m    402\u001b[0m         \u001b[0mindex\u001b[0m \u001b[0;34m=\u001b[0m \u001b[0mself\u001b[0m\u001b[0;34m.\u001b[0m\u001b[0m_next_index\u001b[0m\u001b[0;34m(\u001b[0m\u001b[0;34m)\u001b[0m  \u001b[0;31m# may raise StopIteration\u001b[0m\u001b[0;34m\u001b[0m\u001b[0;34m\u001b[0m\u001b[0m\n\u001b[0;32m--> 403\u001b[0;31m         \u001b[0mdata\u001b[0m \u001b[0;34m=\u001b[0m \u001b[0mself\u001b[0m\u001b[0;34m.\u001b[0m\u001b[0m_dataset_fetcher\u001b[0m\u001b[0;34m.\u001b[0m\u001b[0mfetch\u001b[0m\u001b[0;34m(\u001b[0m\u001b[0mindex\u001b[0m\u001b[0;34m)\u001b[0m  \u001b[0;31m# may raise StopIteration\u001b[0m\u001b[0;34m\u001b[0m\u001b[0;34m\u001b[0m\u001b[0m\n\u001b[0m\u001b[1;32m    404\u001b[0m         \u001b[0;32mif\u001b[0m \u001b[0mself\u001b[0m\u001b[0;34m.\u001b[0m\u001b[0m_pin_memory\u001b[0m\u001b[0;34m:\u001b[0m\u001b[0;34m\u001b[0m\u001b[0;34m\u001b[0m\u001b[0m\n\u001b[1;32m    405\u001b[0m             \u001b[0mdata\u001b[0m \u001b[0;34m=\u001b[0m \u001b[0m_utils\u001b[0m\u001b[0;34m.\u001b[0m\u001b[0mpin_memory\u001b[0m\u001b[0;34m.\u001b[0m\u001b[0mpin_memory\u001b[0m\u001b[0;34m(\u001b[0m\u001b[0mdata\u001b[0m\u001b[0;34m)\u001b[0m\u001b[0;34m\u001b[0m\u001b[0;34m\u001b[0m\u001b[0m\n",
            "\u001b[0;32m/usr/local/lib/python3.6/dist-packages/torch/utils/data/_utils/fetch.py\u001b[0m in \u001b[0;36mfetch\u001b[0;34m(self, possibly_batched_index)\u001b[0m\n\u001b[1;32m     45\u001b[0m         \u001b[0;32melse\u001b[0m\u001b[0;34m:\u001b[0m\u001b[0;34m\u001b[0m\u001b[0;34m\u001b[0m\u001b[0m\n\u001b[1;32m     46\u001b[0m             \u001b[0mdata\u001b[0m \u001b[0;34m=\u001b[0m \u001b[0mself\u001b[0m\u001b[0;34m.\u001b[0m\u001b[0mdataset\u001b[0m\u001b[0;34m[\u001b[0m\u001b[0mpossibly_batched_index\u001b[0m\u001b[0;34m]\u001b[0m\u001b[0;34m\u001b[0m\u001b[0;34m\u001b[0m\u001b[0m\n\u001b[0;32m---> 47\u001b[0;31m         \u001b[0;32mreturn\u001b[0m \u001b[0mself\u001b[0m\u001b[0;34m.\u001b[0m\u001b[0mcollate_fn\u001b[0m\u001b[0;34m(\u001b[0m\u001b[0mdata\u001b[0m\u001b[0;34m)\u001b[0m\u001b[0;34m\u001b[0m\u001b[0;34m\u001b[0m\u001b[0m\n\u001b[0m",
            "\u001b[0;32m/usr/local/lib/python3.6/dist-packages/torch/utils/data/_utils/collate.py\u001b[0m in \u001b[0;36mdefault_collate\u001b[0;34m(batch)\u001b[0m\n\u001b[1;32m     82\u001b[0m             \u001b[0;32mraise\u001b[0m \u001b[0mRuntimeError\u001b[0m\u001b[0;34m(\u001b[0m\u001b[0;34m'each element in list of batch should be of equal size'\u001b[0m\u001b[0;34m)\u001b[0m\u001b[0;34m\u001b[0m\u001b[0;34m\u001b[0m\u001b[0m\n\u001b[1;32m     83\u001b[0m         \u001b[0mtransposed\u001b[0m \u001b[0;34m=\u001b[0m \u001b[0mzip\u001b[0m\u001b[0;34m(\u001b[0m\u001b[0;34m*\u001b[0m\u001b[0mbatch\u001b[0m\u001b[0;34m)\u001b[0m\u001b[0;34m\u001b[0m\u001b[0;34m\u001b[0m\u001b[0m\n\u001b[0;32m---> 84\u001b[0;31m         \u001b[0;32mreturn\u001b[0m \u001b[0;34m[\u001b[0m\u001b[0mdefault_collate\u001b[0m\u001b[0;34m(\u001b[0m\u001b[0msamples\u001b[0m\u001b[0;34m)\u001b[0m \u001b[0;32mfor\u001b[0m \u001b[0msamples\u001b[0m \u001b[0;32min\u001b[0m \u001b[0mtransposed\u001b[0m\u001b[0;34m]\u001b[0m\u001b[0;34m\u001b[0m\u001b[0;34m\u001b[0m\u001b[0m\n\u001b[0m\u001b[1;32m     85\u001b[0m \u001b[0;34m\u001b[0m\u001b[0m\n\u001b[1;32m     86\u001b[0m     \u001b[0;32mraise\u001b[0m \u001b[0mTypeError\u001b[0m\u001b[0;34m(\u001b[0m\u001b[0mdefault_collate_err_msg_format\u001b[0m\u001b[0;34m.\u001b[0m\u001b[0mformat\u001b[0m\u001b[0;34m(\u001b[0m\u001b[0melem_type\u001b[0m\u001b[0;34m)\u001b[0m\u001b[0;34m)\u001b[0m\u001b[0;34m\u001b[0m\u001b[0;34m\u001b[0m\u001b[0m\n",
            "\u001b[0;32m/usr/local/lib/python3.6/dist-packages/torch/utils/data/_utils/collate.py\u001b[0m in \u001b[0;36m<listcomp>\u001b[0;34m(.0)\u001b[0m\n\u001b[1;32m     82\u001b[0m             \u001b[0;32mraise\u001b[0m \u001b[0mRuntimeError\u001b[0m\u001b[0;34m(\u001b[0m\u001b[0;34m'each element in list of batch should be of equal size'\u001b[0m\u001b[0;34m)\u001b[0m\u001b[0;34m\u001b[0m\u001b[0;34m\u001b[0m\u001b[0m\n\u001b[1;32m     83\u001b[0m         \u001b[0mtransposed\u001b[0m \u001b[0;34m=\u001b[0m \u001b[0mzip\u001b[0m\u001b[0;34m(\u001b[0m\u001b[0;34m*\u001b[0m\u001b[0mbatch\u001b[0m\u001b[0;34m)\u001b[0m\u001b[0;34m\u001b[0m\u001b[0;34m\u001b[0m\u001b[0m\n\u001b[0;32m---> 84\u001b[0;31m         \u001b[0;32mreturn\u001b[0m \u001b[0;34m[\u001b[0m\u001b[0mdefault_collate\u001b[0m\u001b[0;34m(\u001b[0m\u001b[0msamples\u001b[0m\u001b[0;34m)\u001b[0m \u001b[0;32mfor\u001b[0m \u001b[0msamples\u001b[0m \u001b[0;32min\u001b[0m \u001b[0mtransposed\u001b[0m\u001b[0;34m]\u001b[0m\u001b[0;34m\u001b[0m\u001b[0;34m\u001b[0m\u001b[0m\n\u001b[0m\u001b[1;32m     85\u001b[0m \u001b[0;34m\u001b[0m\u001b[0m\n\u001b[1;32m     86\u001b[0m     \u001b[0;32mraise\u001b[0m \u001b[0mTypeError\u001b[0m\u001b[0;34m(\u001b[0m\u001b[0mdefault_collate_err_msg_format\u001b[0m\u001b[0;34m.\u001b[0m\u001b[0mformat\u001b[0m\u001b[0;34m(\u001b[0m\u001b[0melem_type\u001b[0m\u001b[0;34m)\u001b[0m\u001b[0;34m)\u001b[0m\u001b[0;34m\u001b[0m\u001b[0;34m\u001b[0m\u001b[0m\n",
            "\u001b[0;32m/usr/local/lib/python3.6/dist-packages/torch/utils/data/_utils/collate.py\u001b[0m in \u001b[0;36mdefault_collate\u001b[0;34m(batch)\u001b[0m\n\u001b[1;32m     53\u001b[0m             \u001b[0mstorage\u001b[0m \u001b[0;34m=\u001b[0m \u001b[0melem\u001b[0m\u001b[0;34m.\u001b[0m\u001b[0mstorage\u001b[0m\u001b[0;34m(\u001b[0m\u001b[0;34m)\u001b[0m\u001b[0;34m.\u001b[0m\u001b[0m_new_shared\u001b[0m\u001b[0;34m(\u001b[0m\u001b[0mnumel\u001b[0m\u001b[0;34m)\u001b[0m\u001b[0;34m\u001b[0m\u001b[0;34m\u001b[0m\u001b[0m\n\u001b[1;32m     54\u001b[0m             \u001b[0mout\u001b[0m \u001b[0;34m=\u001b[0m \u001b[0melem\u001b[0m\u001b[0;34m.\u001b[0m\u001b[0mnew\u001b[0m\u001b[0;34m(\u001b[0m\u001b[0mstorage\u001b[0m\u001b[0;34m)\u001b[0m\u001b[0;34m\u001b[0m\u001b[0;34m\u001b[0m\u001b[0m\n\u001b[0;32m---> 55\u001b[0;31m         \u001b[0;32mreturn\u001b[0m \u001b[0mtorch\u001b[0m\u001b[0;34m.\u001b[0m\u001b[0mstack\u001b[0m\u001b[0;34m(\u001b[0m\u001b[0mbatch\u001b[0m\u001b[0;34m,\u001b[0m \u001b[0;36m0\u001b[0m\u001b[0;34m,\u001b[0m \u001b[0mout\u001b[0m\u001b[0;34m=\u001b[0m\u001b[0mout\u001b[0m\u001b[0;34m)\u001b[0m\u001b[0;34m\u001b[0m\u001b[0;34m\u001b[0m\u001b[0m\n\u001b[0m\u001b[1;32m     56\u001b[0m     \u001b[0;32melif\u001b[0m \u001b[0melem_type\u001b[0m\u001b[0;34m.\u001b[0m\u001b[0m__module__\u001b[0m \u001b[0;34m==\u001b[0m \u001b[0;34m'numpy'\u001b[0m \u001b[0;32mand\u001b[0m \u001b[0melem_type\u001b[0m\u001b[0;34m.\u001b[0m\u001b[0m__name__\u001b[0m \u001b[0;34m!=\u001b[0m \u001b[0;34m'str_'\u001b[0m\u001b[0;31m \u001b[0m\u001b[0;31m\\\u001b[0m\u001b[0;34m\u001b[0m\u001b[0;34m\u001b[0m\u001b[0m\n\u001b[1;32m     57\u001b[0m             \u001b[0;32mand\u001b[0m \u001b[0melem_type\u001b[0m\u001b[0;34m.\u001b[0m\u001b[0m__name__\u001b[0m \u001b[0;34m!=\u001b[0m \u001b[0;34m'string_'\u001b[0m\u001b[0;34m:\u001b[0m\u001b[0;34m\u001b[0m\u001b[0;34m\u001b[0m\u001b[0m\n",
            "\u001b[0;31mRuntimeError\u001b[0m: stack expects each tensor to be equal size, but got [3, 45, 45] at entry 0 and [3, 75, 76] at entry 4"
          ]
        }
      ]
    },
    {
      "cell_type": "code",
      "metadata": {
        "id": "cSbnFJjwK1R9",
        "colab_type": "code",
        "colab": {}
      },
      "source": [
        "import numpy as np\n",
        "import matplotlib.pyplot as plt\n",
        "\n",
        "#Run this helper function\n",
        "def imshow(inp, title=None):\n",
        "    \"\"\"Imshow for Tensor.\"\"\"\n",
        "    inp = inp.numpy().transpose((1, 2, 0))\n",
        "    mean = np.array([0.485, 0.456, 0.406])\n",
        "    std = np.array([0.229, 0.224, 0.225])\n",
        "    inp = std * inp + mean\n",
        "    inp = np.clip(inp, 0, 1)\n",
        "    plt.imshow(inp)\n",
        "    if title is not None:\n",
        "        plt.title(title)\n",
        "    plt.pause(0.001)  # pause a bit so that plots are updated"
      ],
      "execution_count": null,
      "outputs": []
    },
    {
      "cell_type": "code",
      "metadata": {
        "id": "J3sK8V2K4pAU",
        "colab_type": "code",
        "colab": {
          "base_uri": "https://localhost:8080/",
          "height": 671
        },
        "outputId": "33703cac-95da-4385-b64f-fc54f75faa52"
      },
      "source": [
        "##This function shows num_image # of images, and shows the ground truth vs the model's prediction of the image\n",
        "def visualize_model_transfer(model, num_images=6):\n",
        "    was_training = model.training\n",
        "    model.eval()\n",
        "    images_so_far = 0\n",
        "    fig = plt.figure()\n",
        "\n",
        "    val_loader = torch.utils.data.DataLoader(val_dataset, batch_size=32, shuffle=True)\n",
        "\n",
        "    with torch.no_grad():\n",
        "        for i, (inputs, labels) in enumerate(val_loader):\n",
        "            inputs = inputs.to(device)\n",
        "            labels = labels.to(device)\n",
        "\n",
        "            outputs = model(inputs)\n",
        "            _, preds = torch.max(outputs, 1)\n",
        "\n",
        "            for j in range(inputs.size()[0]):\n",
        "                images_so_far += 1\n",
        "                ax = plt.subplot(num_images//2, 2, images_so_far)\n",
        "                ax.axis('off')\n",
        "                ax.set_title(' Ground Truth: {}'.format(classes[labels[j]]) + ' \\n Predicted: {}'.format(classes[preds[j]]))\n",
        "                imshow(inputs.cpu().data[j])\n",
        "\n",
        "                if images_so_far == num_images:\n",
        "                    model.train(mode=was_training)\n",
        "                    return\n",
        "        model.train(mode=was_training)\n",
        "\n",
        "visualize_model_transfer(model_ft_2, num_images=6)"
      ],
      "execution_count": null,
      "outputs": [
        {
          "output_type": "display_data",
          "data": {
            "image/png": "[encoded data removed]",
            "text/plain": [
              "<Figure size 432x288 with 1 Axes>"
            ]
          },
          "metadata": {
            "tags": [],
            "needs_background": "light"
          }
        },
        {
          "output_type": "display_data",
          "data": {
            "image/png": "[encoded data removed]",
            "text/plain": [
              "<Figure size 432x288 with 1 Axes>"
            ]
          },
          "metadata": {
            "tags": [],
            "needs_background": "light"
          }
        },
        {
          "output_type": "display_data",
          "data": {
            "image/png": "[encoded data removed]",
            "text/plain": [
              "<Figure size 432x288 with 1 Axes>"
            ]
          },
          "metadata": {
            "tags": [],
            "needs_background": "light"
          }
        },
        {
          "output_type": "display_data",
          "data": {
            "image/png": "[encoded data removed]",
            "text/plain": [
              "<Figure size 432x288 with 1 Axes>"
            ]
          },
          "metadata": {
            "tags": [],
            "needs_background": "light"
          }
        },
        {
          "output_type": "display_data",
          "data": {
            "image/png": "[encoded data removed]",
            "text/plain": [
              "<Figure size 432x288 with 1 Axes>"
            ]
          },
          "metadata": {
            "tags": [],
            "needs_background": "light"
          }
        },
        {
          "output_type": "display_data",
          "data": {
            "image/png": "[encoded data removed]",
            "text/plain": [
              "<Figure size 432x288 with 1 Axes>"
            ]
          },
          "metadata": {
            "tags": [],
            "needs_background": "light"
          }
        }
      ]
    },
    {
      "cell_type": "markdown",
      "metadata": {
        "id": "_CP2F2Ahczud",
        "colab_type": "text"
      },
      "source": [
        "#Objection Detection - OpenCV"
      ]
    },
    {
      "cell_type": "code",
      "metadata": {
        "id": "9L7UqMnFc1-F",
        "colab_type": "code",
        "colab": {
          "base_uri": "https://localhost:8080/",
          "height": 417
        },
        "outputId": "08e2174a-0ddb-4540-ee32-f0ca8f7df187"
      },
      "source": [
        "##READING AN IMAGE AND GETTING THE BOUNDING BOXES\n",
        "import cv2\n",
        "import numpy as np\n",
        "from numpy import array\n",
        "import os\n",
        "import matplotlib.pyplot as plt\n",
        "from google.colab.patches import cv2_imshow\n",
        "folder =r'/content/drive/My Drive/aps360/fullEquationDataset/FinalPhotos'\n",
        "directory =r'/content/drive/My Drive/aps360/fullEquationDataset/FinalPhotos/fraction.jpg'\n",
        "os.chdir(folder) \n",
        "\n",
        "image = cv2.imread(directory)\n",
        "plt.imshow(image, cmap='gray')\n",
        "original = image.copy()\n",
        "gray = cv2.cvtColor(image, cv2.COLOR_BGR2GRAY)\n",
        "blured = cv2.blur(gray, (5,5), 0)   \n",
        "img_thresh = cv2.adaptiveThreshold(blured, 255, cv2.ADAPTIVE_THRESH_GAUSSIAN_C, cv2.THRESH_BINARY_INV, 11, 2)\n",
        "rect_kernel = cv2.getStructuringElement(cv2.MORPH_RECT, (10, 10))\n",
        "thresh = cv2.morphologyEx(img_thresh, cv2.MORPH_GRADIENT, rect_kernel)\n",
        "\n",
        "# Find contours, obtain bounding box, extract and save ROI\n",
        "ROI_number = 0\n",
        "cnts = cv2.findContours(thresh, cv2.RETR_EXTERNAL, cv2.CHAIN_APPROX_SIMPLE)\n",
        "boxes = 0\n",
        "cnts = cnts[0] if len(cnts) == 2 else cnts[1]\n",
        "\n",
        "result_array = np.empty((0,4), int)\n",
        "\n",
        "for c in cnts:\n",
        "    boxes +=1\n",
        "    x,y,w,h = cv2.boundingRect(c)\n",
        "    cv2.rectangle(image, (x, y), (x + w, y + h), (36,255,12), 2)\n",
        "    ROI = original[y:y+h, x:x+w]\n",
        "    print(x,y,w,h)\n",
        "    if w >25 and h>25:\n",
        "      result_array = np.append(result_array, np.array([[x+2,y+2,w-4,h-4]]),axis=0)\n",
        "    ##SORTED ARRAY TO GET THE BOXES FROM LEFT TO RIGHT\n",
        "    sorted_array = result_array[np.argsort(result_array[:, 0])]\n",
        "\n",
        "    save_dir = r'/content/drive/My Drive/testing_imgs/after_contour/'\n",
        "    name = str(boxes) +'.jpg'\n",
        "    total_dir = save_dir+name\n",
        "\n",
        "letter = image[y+2:y+h-2,x+2:x+w-2]\n",
        "dim = (45,45)\n",
        "resized_letter = cv2.resize(letter, dim,interpolation = cv2.INTER_AREA)\n",
        "plt.imshow(resized_letter,cmap='gray')\n",
        "cv2.waitKey()\n",
        "print(sorted_array)"
      ],
      "execution_count": null,
      "outputs": [
        {
          "output_type": "stream",
          "text": [
            "204 323 165 233\n",
            "389 306 147 258\n",
            "60 263 604 25\n",
            "128 49 164 186\n",
            "382 25 124 217\n",
            "[[130  51 160 182]\n",
            " [206 325 161 229]\n",
            " [384  27 120 213]\n",
            " [391 308 143 254]]\n"
          ],
          "name": "stdout"
        },
        {
          "output_type": "display_data",
          "data": {
            "image/png": "[encoded data removed]",
            "text/plain": [
              "<Figure size 432x288 with 1 Axes>"
            ]
          },
          "metadata": {
            "tags": [],
            "needs_background": "light"
          }
        }
      ]
    },
    {
      "cell_type": "code",
      "metadata": {
        "id": "Y0ZkbaRULjOh",
        "colab_type": "code",
        "colab": {}
      },
      "source": [
        "##Getting the boxes, and saving it to a folder in order (eg. 1.jpg, 2.jpg)\n",
        "boxes = 0\n",
        "for a in sorted_array:\n",
        "  x=a[0]\n",
        "  y=a[1]\n",
        "  w=a[2]\n",
        "  h = a[3]\n",
        "  letter = image[y+2:y+h-2,x+2:x+w-2]\n",
        "  save_dir = r'/content/drive/My Drive/testing_imgs/after_contour/'\n",
        "  name = str(boxes) +'.jpg'\n",
        "  total_dir = save_dir+name\n",
        "  dim = (45,45)\n",
        "  resized_letter = cv2.resize(letter, dim,interpolation = cv2.INTER_AREA)\n",
        "  cv2.imwrite(total_dir,resized_letter)\n",
        "  boxes +=1"
      ],
      "execution_count": null,
      "outputs": []
    },
    {
      "cell_type": "code",
      "metadata": {
        "id": "zrGCrkA8vfxd",
        "colab_type": "code",
        "colab": {}
      },
      "source": [
        "##Probably extra code, but basically \"send\" images to the model and have it classify it\n",
        "def send_data(model):\n",
        "    num_images = 2\n",
        "    was_training = model.training\n",
        "    model.eval()\n",
        "    images_so_far = 0\n",
        "    fig = plt.figure()\n",
        "\n",
        "  \n",
        "    test_loader = torch.utils.data.DataLoader(val_dataset,batch_size=32,shuffle = True)\n",
        "    with torch.no_grad():\n",
        "        for i, (inputs, labels) in enumerate(test_loader):\n",
        "            print(inputs[1])\n",
        "            inputs = inputs.to(device)\n",
        "            labels = labels.to(device)\n",
        "\n",
        "            outputs = model(inputs)\n",
        "            _, preds = torch.max(outputs, 1)\n",
        "\n",
        "            for j in range(inputs.size()[0]):\n",
        "                images_so_far += 1\n",
        "                ax = plt.subplot(num_images//2, 2, images_so_far)\n",
        "                ax.axis('off')\n",
        "                ax.set_title(' Ground Truth: {}'.format(classes[labels[j]]) + ' \\n Predicted: {}'.format(classes[preds[j]]))\n",
        "                imshow(inputs.cpu().data[j])\n",
        "\n",
        "                if images_so_far == num_images:\n",
        "                    model.train(mode=was_training)\n",
        "                    return\n",
        "        model.train(mode=was_training)"
      ],
      "execution_count": null,
      "outputs": []
    },
    {
      "cell_type": "code",
      "metadata": {
        "id": "TVJUoyBCIqGz",
        "colab_type": "code",
        "colab": {
          "base_uri": "https://localhost:8080/",
          "height": 35
        },
        "outputId": "ce6b62b7-f2af-474e-f283-c361b684369d"
      },
      "source": [
        "#Get the images from the bounding boxes\n",
        "crop = '/content/drive/My Drive/testing_imgs'\n",
        "data_transform = transforms.Compose(\n",
        "        [transforms.ToTensor(),transforms.Normalize((0.5, 0.5, 0.5), (0.5, 0.5, 0.5))])\n",
        "\n",
        "#Will save all the predictions from the model\n",
        "saveChar = []\n",
        "\n",
        "was_training = model_ft_2.training\n",
        "model_ft_2.eval()\n",
        "\n",
        "contour_dataset = torchvision.datasets.ImageFolder(root=crop,transform=data_transform)\n",
        "contour_loader = torch.utils.data.DataLoader(contour_dataset,batch_size=32)\n",
        "with torch.no_grad():\n",
        "  for features,labels in iter(contour_loader):\n",
        "    features = features.to(device)\n",
        "    labels = labels.to(device)\n",
        "    outputs = model_ft_2(features)\n",
        "    _,pred = torch.max(outputs, 1)\n",
        "\n",
        "    #Saving all the predictions from the model\n",
        "    for j in range(features.size()[0]):\n",
        "      saveChar.append(classes[pred[j]])\n",
        "  print(saveChar) #the double \\\\ is fine, needed to put into LaTeX"
      ],
      "execution_count": null,
      "outputs": [
        {
          "output_type": "stream",
          "text": [
            "['\\\\times', '\\\\sum', 'z', '2', 'x', '1', '3', 't', '2', 'z', '=', 'k']\n"
          ],
          "name": "stdout"
        }
      ]
    },
    {
      "cell_type": "code",
      "metadata": {
        "id": "htPpawCnRObo",
        "colab_type": "code",
        "colab": {
          "base_uri": "https://localhost:8080/",
          "height": 56
        },
        "outputId": "cfae25d6-882e-40bd-c199-a8f6a7e96871"
      },
      "source": [
        "#TotalString will save the whole equation\n",
        "totalString=\" \"\n",
        "\n",
        "#Run through the individual chars and puts them together\n",
        "for i in range(0, len(saveChar)):\n",
        "  totalString = totalString + saveChar[i] + \" \"\n",
        "print(totalString)\n",
        "\n",
        "from IPython.display import HTML, Math\n",
        "def latexify(e):\n",
        "  display(HTML(\"<script src='https://cdnjs.cloudflare.com/ajax/libs/mathjax/2.7.3/\"\n",
        "         \"latest.js?config=default'></script>\"))\n",
        "  return Math(latex(e))\n",
        "\n",
        "display(latexify(totalString))"
      ],
      "execution_count": null,
      "outputs": [
        {
          "output_type": "stream",
          "text": [
            " \\times \\sum z 2 x 1 3 t 2 z = k \n"
          ],
          "name": "stdout"
        },
        {
          "output_type": "display_data",
          "data": {
            "text/html": [
              "<script src='https://cdnjs.cloudflare.com/ajax/libs/mathjax/2.7.3/latest.js?config=default'></script>"
            ],
            "text/plain": [
              "<IPython.core.display.HTML object>"
            ]
          },
          "metadata": {
            "tags": []
          }
        },
        {
          "output_type": "display_data",
          "data": {
            "text/latex": "$$ \\times \\sum z 2 x 1 3 t 2 z = k $$",
            "text/plain": [
              "<IPython.core.display.Math object>"
            ]
          },
          "metadata": {
            "tags": []
          }
        }
      ]
    },
    {
      "cell_type": "code",
      "metadata": {
        "id": "3s2GJs-Kym_q",
        "colab_type": "code",
        "colab": {}
      },
      "source": [
        "##Sending data !! Not sure if this is correct but use the above method\n",
        "def send_data(model):\n",
        "    num_images = 2\n",
        "    was_training = model.training\n",
        "    model.eval()\n",
        "    images_so_far = 0\n",
        "    fig = plt.figure()\n",
        "\n",
        "    inputs = torch.from_numpy(resized_letter)\n",
        "\n",
        "    inputs = inputs.permute(2,0,1)      # move the channel dimension to the beginning\n",
        "    inputs = inputs.unsqueeze(0)\n",
        "    \n",
        "    with torch.no_grad():\n",
        "        print(inputs.shape)\n",
        "        inputs = inputs.float()\n",
        "        inputs = inputs.to(device)\n",
        "\n",
        "        outputs = model(inputs)\n",
        "        _, preds = torch.max(outputs, 1)\n",
        "\n",
        "        for j in range(inputs.size()[0]):\n",
        "            images_so_far += 1\n",
        "            ax = plt.subplot(num_images//2, 2, images_so_far)\n",
        "            ax.axis('off')\n",
        "            ax.set_title('Predicted: {}'.format(classes[preds[j]]))\n",
        "            imshow(inputs.cpu().data[j])\n",
        "            plt.imshow(resized_letter,cmap='gray')\n",
        "            if images_so_far == num_images:\n",
        "                model.train(mode=was_training)\n",
        "                return\n",
        "        model.train(mode=was_training)"
      ],
      "execution_count": null,
      "outputs": []
    },
    {
      "cell_type": "code",
      "metadata": {
        "id": "F6jUzUQy1pD0",
        "colab_type": "code",
        "colab": {
          "base_uri": "https://localhost:8080/",
          "height": 467
        },
        "outputId": "2c2bff7d-225b-49c9-a97a-ba939a79076f"
      },
      "source": [
        "send_data(model_ft_2)"
      ],
      "execution_count": null,
      "outputs": [
        {
          "output_type": "stream",
          "text": [
            "torch.Size([1, 3, 45, 45])\n"
          ],
          "name": "stdout"
        },
        {
          "output_type": "display_data",
          "data": {
            "image/png": "[encoded data removed]",
            "text/plain": [
              "<Figure size 432x288 with 1 Axes>"
            ]
          },
          "metadata": {
            "tags": [],
            "needs_background": "light"
          }
        },
        {
          "output_type": "display_data",
          "data": {
            "image/png": "[encoded data removed]",
            "text/plain": [
              "<Figure size 432x288 with 1 Axes>"
            ]
          },
          "metadata": {
            "tags": [],
            "needs_background": "light"
          }
        }
      ]
    },
    {
      "cell_type": "markdown",
      "metadata": {
        "id": "huFy82raZJMO",
        "colab_type": "text"
      },
      "source": [
        "# Test Accuracy"
      ]
    },
    {
      "cell_type": "code",
      "metadata": {
        "id": "1JkGvU_7HO78",
        "colab_type": "code",
        "colab": {
          "base_uri": "https://localhost:8080/",
          "height": 35
        },
        "outputId": "7632f874-e118-4fb0-86ad-fafed7212b4a"
      },
      "source": [
        "batch_size = 1000\n",
        "test_loader = torch.utils.data.DataLoader(test_dataset, batch_size=batch_size, shuffle=True)\n",
        "print(get_accuracy(model_ft_2,test_loader))"
      ],
      "execution_count": null,
      "outputs": [
        {
          "output_type": "stream",
          "text": [
            "0.9592850049652433\n"
          ],
          "name": "stdout"
        }
      ]
    },
    {
      "cell_type": "code",
      "metadata": {
        "id": "c90m3Evrgo0W",
        "colab_type": "code",
        "colab": {}
      },
      "source": [
        "from numpy import zeros\n",
        "import numpy as np\n",
        "import matplotlib.pyplot as plt\n",
        "\n",
        "#Run this helper function\n",
        "def imshow(inp, title=None):\n",
        "    \"\"\"Imshow for Tensor.\"\"\"\n",
        "    inp = inp.numpy().transpose((1, 2, 0))\n",
        "    mean = np.array([0.485, 0.456, 0.406])\n",
        "    std = np.array([0.229, 0.224, 0.225])\n",
        "    inp = std * inp + mean\n",
        "    inp = np.clip(inp, 0, 1)\n",
        "    plt.imshow(inp)\n",
        "    if title is not None:\n",
        "        plt.title(title)\n",
        "    plt.pause(0.001)  # pause a bit so that plots are updated\n",
        "\n",
        "## This function takes the model, and looks through num_images # of the data\n",
        "## Then, it keeps track of the accuracy of each class -- this is useful for our data analysis\n",
        "def test_acc_transfer(model, num_images=100):\n",
        "    was_training = model.training\n",
        "    model.eval()\n",
        "    images_so_far = 0\n",
        "    fig = plt.figure()\n",
        "\n",
        "    correct_array = zeros([1,89])\n",
        "    total_array = zeros([1,89])\n",
        "\n",
        "    ##test_loader = torch.utils.data.DataLoader(test_dataset, batch_size=32, shuffle=True)\n",
        "    val_loader = torch.utils.data.DataLoader(val_dataset, batch_size=1000, shuffle=True)\n",
        "\n",
        "    with torch.no_grad():\n",
        "        for i, (inputs, labels) in enumerate(val_loader):\n",
        "            inputs = inputs.to(device)\n",
        "            labels = labels.to(device)\n",
        "\n",
        "            outputs = model(inputs)\n",
        "            _, preds = torch.max(outputs, 1)\n",
        "\n",
        "            for j in range(inputs.size()[0]):\n",
        "                #if classes[labels[j]] == 'n':\n",
        "                if (classes[preds[j]] == classes[labels[j]]):\n",
        "                    correct_array[0][labels[j]] +=1\n",
        "                total_array[0][labels[j]]+=1  \n",
        "\n",
        "            acc_array = correct_array / total_array\n",
        "            for i in range(0, acc_array.shape[1]):\n",
        "              print(classes[i], acc_array[0][i], '\\n')\n",
        "          \n",
        "          #print(acc_array)\n",
        "\n",
        "                  #if images_so_far == num_images:\n",
        "                  #  model.train(mode=was_training)\n",
        "                  #  return\n",
        "\n",
        "        model.train(mode=was_training)\n",
        "\n",
        "\n",
        "test_acc_transfer(model_ft_2,num_images = 20)"
      ],
      "execution_count": null,
      "outputs": []
    },
    {
      "cell_type": "code",
      "metadata": {
        "id": "eQne7o4ngqUA",
        "colab_type": "code",
        "colab": {}
      },
      "source": [
        "## This function takes a model, a num_images #, and a class as an input\n",
        "## Then, it sends the num_images # of images of ONLY the class into the model\n",
        "## It will then output the images, the ground truth, and what the model's predition was -- good for the false positive / false negative analysis\n",
        "def test_accuracy_indiv(model, num_images=6,string_input='a'):\n",
        "    was_training = model.training\n",
        "    model.eval()\n",
        "    images_so_far = 0\n",
        "    fig = plt.figure()\n",
        "    correct = 0\n",
        "    total = 0\n",
        "\n",
        "\n",
        "    val_loader = torch.utils.data.DataLoader(val_dataset, batch_size=32, shuffle=True)\n",
        "    test_loader = torch.utils.data.DataLoader(test_dataset, batch_size=32, shuffle=True)\n",
        "\n",
        "    with torch.no_grad():\n",
        "        for i, (inputs, labels) in enumerate(val_loader):\n",
        "            inputs = inputs.to(device)\n",
        "            labels = labels.to(device)\n",
        "\n",
        "            outputs = model(inputs)\n",
        "            _, preds = torch.max(outputs, 1)\n",
        "\n",
        "            for j in range(inputs.size()[0]):\n",
        "                if classes[labels[j]] == string_input:\n",
        "                    images_so_far += 1\n",
        "                    ax = plt.subplot(num_images//2, 2, images_so_far)\n",
        "                    ax.axis('off')\n",
        "                    ax.set_title(' Ground Truth: {}'.format(classes[labels[j]]) + ' \\n Predicted: {}'.format(classes[preds[j]]))\n",
        "                    imshow(inputs.cpu().data[j])\n",
        "                    if classes[labels[j]] == classes[preds[j]]:\n",
        "                      correct +=1\n",
        "                    total +=1\n",
        "                    if images_so_far == num_images:\n",
        "                        model.train(mode=was_training)\n",
        "                        return\n",
        "        model.train(mode=was_training)\n",
        "        print(correct/total)\n",
        "\n",
        "test_accuracy_indiv(model_ft_2,15,r'\\delta')"
      ],
      "execution_count": null,
      "outputs": []
    },
    {
      "cell_type": "markdown",
      "metadata": {
        "id": "UobjZMsCxiHw",
        "colab_type": "text"
      },
      "source": [
        "# Putting Everything Together!\n"
      ]
    },
    {
      "cell_type": "markdown",
      "metadata": {
        "id": "MUtajPFF0xfv",
        "colab_type": "text"
      },
      "source": [
        "OpenCV for bounding boxes"
      ]
    },
    {
      "cell_type": "code",
      "metadata": {
        "id": "eMvAW5y48KP5",
        "colab_type": "code",
        "colab": {}
      },
      "source": [
        "##Assuming that the photo is in FinalPhotos -- feel free to add as needed\n",
        "def get_directory(photo=\"fraction\"):\n",
        "  if (photo == \"fraction\"):\n",
        "    directories[0] =r'/content/drive/My Drive/aps360/fullEquationDataset/FinalPhotos/fraction.jpg'\n",
        "    directories[1] =  r'/content/drive/My Drive/aps360/crop/fraction/fraction1'\n",
        "    directories[2] = r'/content/drive/My Drive/aps360/crop/fraction'\n",
        "  if (photo == \"mu\"):\n",
        "    directories[0] =r'/content/drive/My Drive/aps360/fullEquationDataset/FinalPhotos/mu_not_equal.jpg'\n",
        "    directories[1] =  r'/content/drive/My Drive/aps360/crop/mu_not_equal/mu_not_equal1'\n",
        "    directories[2] = r'/content/drive/My Drive/aps360/crop/mu_not_equal'\n",
        "  if (photo == \"tan\"):\n",
        "    directories[0] =r'/content/drive/My Drive/aps360/fullEquationDataset/FinalPhotos/tan.jpg'\n",
        "    directories[1] =  r'/content/drive/My Drive/aps360/crop/tan/tan1'\n",
        "    directories[2] = r'/content/drive/My Drive/aps360/crop/tan'\n",
        "  if (photo == \"sin\"):\n",
        "    directories[0] =r'/content/drive/My Drive/aps360/fullEquationDataset/FinalPhotos/sin.jpg'\n",
        "    directories[1] =  r'/content/drive/My Drive/aps360/crop/sin/sin1'\n",
        "    directories[2] = r'/content/drive/My Drive/aps360/crop/sin'\n",
        "  if (photo == \"sup_pm_equ\"):\n",
        "    directories[0] =r'/content/drive/My Drive/aps360/fullEquationDataset/FinalPhotos/sup_pm_equ.jpg'\n",
        "    directories[1] =  r'/content/drive/My Drive/aps360/crop/sup_pm_equ/sup_pm_equ1'\n",
        "    directories[2] = r'/content/drive/My Drive/aps360/crop/sup_pm_equ'\n",
        "  if (photo == \"sub_and_sup\"):\n",
        "    directories[0] =r'/content/drive/My Drive/aps360/fullEquationDataset/FinalPhotos/sub_and_sup.jpg'\n",
        "    directories[1] =  r'/content/drive/My Drive/aps360/crop/sub_and_sup/sub_and_sup1'\n",
        "    directories[2] = r'/content/drive/My Drive/aps360/crop/sub_and_sup'\n",
        "  if (photo == \"sub_sup_script\"):\n",
        "    directories[0] =r'/content/drive/My Drive/aps360/fullEquationDataset/FinalPhotos/sub_sup_script.jpg'\n",
        "    directories[1] =  r'/content/drive/My Drive/aps360/crop/sub_sup_script/sub_sup_script1'\n",
        "    directories[2] = r'/content/drive/My Drive/aps360/crop/sub_sup_script'\n",
        "  if (photo == \"AFM\"):\n",
        "    directories[0] =r'/content/drive/My Drive/aps360/fullEquationDataset/testImage7.jpg'\n",
        "    directories[1] =  r'/content/drive/My Drive/aps360/crop/testImage5/testImage5'\n",
        "    directories[2] = r'/content/drive/My Drive/aps360/crop/testImage5'\n",
        "  if (photo == \"forall_equ_inf\"):\n",
        "    directories[0] =r'/content/drive/My Drive/aps360/fullEquationDataset/testImage1.jpg'\n",
        "    directories[1] =  r'/content/drive/My Drive/aps360/crop/testImage1/testImage1'\n",
        "    directories[2] = r'/content/drive/My Drive/aps360/crop/testImage1'\n",
        "  if (photo == \"alpha_geq\"):\n",
        "    directories[0] =r'/content/drive/My Drive/aps360/fullEquationDataset/FinalPhotos/alpha_geq-1.jpg'\n",
        "    directories[1] =  r'/content/drive/My Drive/aps360/crop/alpha_geq/alpha_geq1'\n",
        "    directories[2] = r'/content/drive/My Drive/aps360/crop/alpha_geq'\n",
        "  if (photo == \"AFM-final\"):\n",
        "    directories[0] =r'/content/drive/My Drive/aps360/fullEquationDataset/FinalPhotos/AFM-final.jpg'\n",
        "    directories[1] =  r'/content/drive/My Drive/aps360/crop/AFM-final/AFM-final1'\n",
        "    directories[2] = r'/content/drive/My Drive/aps360/crop/AFM-final'\n",
        "\n",
        "\n",
        "directories = [\"\",\"\",\"\"]\n",
        "\n",
        "get_directory(\"fraction\")\n",
        "\n",
        "directory = directories[0]\n",
        "crop = directories[1]\n",
        "crop_dir = directories[2]"
      ],
      "execution_count": null,
      "outputs": []
    },
    {
      "cell_type": "code",
      "metadata": {
        "id": "S4EUqlslVABp",
        "colab_type": "code",
        "colab": {
          "base_uri": "https://localhost:8080/",
          "height": 373
        },
        "outputId": "3cefb340-2667-40e8-b245-a586687f43fd"
      },
      "source": [
        "import cv2\n",
        "import numpy as np\n",
        "import os\n",
        "import cv2\n",
        "import numpy as np\n",
        "import matplotlib.pyplot as plt\n",
        "from google.colab.patches import cv2_imshow\n",
        "folder =r'/content/drive/My Drive/aps360/fullEquationDataset/FinalPhotos'\n",
        "\n",
        "os.chdir(folder) \n",
        "\n",
        "image = cv2.imread(directory)\n",
        "#plt.imshow(image, cmap='gray')\n",
        "original = image.copy()\n",
        "# convert image to gray from RGB\n",
        "gray = cv2.cvtColor(image, cv2.COLOR_BGR2GRAY)\n",
        "# blur image \n",
        "blured = cv2.blur(gray, (15,15), 0)   \n",
        "\n",
        "x_list=[]\n",
        "w_list=[]\n",
        "y_list=[]\n",
        "h_list=[]\n",
        "\n",
        "image = cv2.imread(directory)\n",
        "#plt.imshow(image, cmap='gray')\n",
        "original = image.copy()\n",
        "gray = cv2.cvtColor(image, cv2.COLOR_BGR2GRAY)\n",
        "blured = cv2.blur(gray, (5,5), 0)   \n",
        "img_thresh = cv2.adaptiveThreshold(blured, 255, cv2.ADAPTIVE_THRESH_GAUSSIAN_C, cv2.THRESH_BINARY_INV, 11, 2)\n",
        "rect_kernel = cv2.getStructuringElement(cv2.MORPH_RECT, (10, 10))\n",
        "thresh = cv2.morphologyEx(img_thresh, cv2.MORPH_GRADIENT, rect_kernel)\n",
        "\n",
        "# Find contours, obtain bounding box, extract and save ROI\n",
        "ROI_number = 0\n",
        "cnts = cv2.findContours(thresh, cv2.RETR_EXTERNAL, cv2.CHAIN_APPROX_SIMPLE)\n",
        "\n",
        "cnts = cnts[0] if len(cnts) == 2 else cnts[1]\n",
        "idx = 0\n",
        "height,width,channels = image.shape\n",
        "\n",
        "result_array = np.empty((0,4), int)\n",
        "\n",
        "# # go through contours and put bounding boxes on them as well as save them\n",
        "sorted_ctrs = sorted(cnts, key=lambda cnts: cv2.boundingRect(cnts))\n",
        "for c in sorted_ctrs:\n",
        "    os.chdir(crop) \n",
        "    idx += 1\n",
        "    x,y,w,h = cv2.boundingRect(c)\n",
        "    print(x,y,w,h)\n",
        "    cv2.rectangle(image, (x, y), (x + w, y + h), (36,255,12), 2)\n",
        "    ROI = original[y:y+h, x:x+w]\n",
        "    cv2.imwrite(str(idx) + '.jpg', ROI)\n",
        "    result_array = np.append(result_array, np.array([[x+2,y+2,w-4,h-4]]),axis=0)\n",
        "    ##SORTED ARRAY TO GET THE BOXES FROM LEFT TO RIGHT\n",
        "    sorted_array = result_array[np.argsort(result_array[:, 0])]\n",
        "\n",
        "    x_list.append(x)\n",
        "    w_list.append(w)\n",
        "    y_list.append(y)\n",
        "    h_list.append(h)\n",
        "\n",
        "plt.imshow(image,cmap='gray')\n",
        "cv2.waitKey()"
      ],
      "execution_count": null,
      "outputs": [
        {
          "output_type": "stream",
          "text": [
            "60 263 604 25\n",
            "128 49 164 186\n",
            "204 323 165 233\n",
            "382 25 124 217\n",
            "389 306 147 258\n"
          ],
          "name": "stdout"
        },
        {
          "output_type": "execute_result",
          "data": {
            "text/plain": [
              "-1"
            ]
          },
          "metadata": {
            "tags": []
          },
          "execution_count": 8
        },
        {
          "output_type": "display_data",
          "data": {
            "image/png": "[encoded data removed]",
            "text/plain": [
              "<Figure size 432x288 with 1 Axes>"
            ]
          },
          "metadata": {
            "tags": [],
            "needs_background": "light"
          }
        }
      ]
    },
    {
      "cell_type": "markdown",
      "metadata": {
        "id": "2RXQXZzoXxPV",
        "colab_type": "text"
      },
      "source": [
        "Model classifies chracters for the first time"
      ]
    },
    {
      "cell_type": "code",
      "metadata": {
        "colab_type": "code",
        "id": "ztmFfNiIYfmP",
        "colab": {}
      },
      "source": [
        "#https://discuss.pytorch.org/t/how-to-resize-and-pad-in-a-torchvision-transforms-compose/71850/2\n",
        "import torchvision.transforms.functional as F\n",
        "import numpy as np\n",
        "class SquarePad:\n",
        "\tdef __call__(self, image):\n",
        "\t\tw, h = image.size\n",
        "\t\tmax_wh = np.max([w, h])\n",
        "\t\thp = int((max_wh - w) / 2)\n",
        "\t\tvp = int((max_wh - h) / 2)\n",
        "\t\tpadding = (hp, vp, hp, vp)\n",
        "\t\treturn F.pad(image, padding, (255,255,255), 'constant')"
      ],
      "execution_count": null,
      "outputs": []
    },
    {
      "cell_type": "code",
      "metadata": {
        "colab_type": "code",
        "id": "4ENEZ_TbYj6A",
        "colab": {}
      },
      "source": [
        "#crop_dir = '/content/drive/My Drive/aps360/crop/fraction'\n",
        "data_transform = transforms.Compose([SquarePad(), transforms.RandomResizedCrop(45, scale=(1,1)),transforms.ToTensor(),transforms.Normalize((0.5, 0.5, 0.5), (0.5, 0.5, 0.5))])\n",
        "\n",
        "\n",
        "contour_dataset = torchvision.datasets.ImageFolder(root=crop_dir,transform=data_transform)\n",
        "contour_loader = torch.utils.data.DataLoader(contour_dataset,batch_size=10,shuffle = False)\n",
        "\n"
      ],
      "execution_count": null,
      "outputs": []
    },
    {
      "cell_type": "code",
      "metadata": {
        "colab_type": "code",
        "id": "D0mZ0YCG2k3Y",
        "colab": {}
      },
      "source": [
        "classes = ['!','(',')','+','-','0','1','2','3','4','5','6',\n",
        "           '7','8','9','=','A','B','D','E','F','G','H','I',\n",
        "           'J','L','M','N','Q','R','T','Y','\\Delta','[',']','a',\n",
        "           r'\\alpha','b',r'\\beta','c',r'\\cdots','d','\\div','e','\\exists','f',r'\\forall','\\diagup',\n",
        "           'g','\\gamma','\\geq','\\gt','h','i','\\in','\\infty','\\int','j',\n",
        "           'k','\\lambda','\\ldots','\\leq','\\lt','m','\\mu','n',r'\\neq','p','\\phi',\n",
        "           '\\pi','\\pm','\\prime','q','r',r'\\rightarrow','s','\\sigma','\\sqrt{}','\\sum',r'\\theta',\n",
        "           r'\\times','u','v','w','x','y','z','{','}','\\\\cos(','\\\\sin(','\\\\tan(']"
      ],
      "execution_count": null,
      "outputs": []
    },
    {
      "cell_type": "code",
      "metadata": {
        "colab_type": "code",
        "id": "IdTzDHmoYnEC",
        "colab": {
          "base_uri": "https://localhost:8080/",
          "height": 235
        },
        "outputId": "dfebc1f8-6585-4978-9d3a-b5bcd287ff4d"
      },
      "source": [
        "pred = []\n",
        "for features,labels in iter(contour_loader):\n",
        "  features = features.to(device)\n",
        "  labels = labels.to(device)\n",
        "  outputs = model_ft_2(features)\n",
        "  pred = outputs.max(1, keepdim=True)[1]\n"
      ],
      "execution_count": null,
      "outputs": [
        {
          "output_type": "error",
          "ename": "NameError",
          "evalue": "ignored",
          "traceback": [
            "\u001b[0;31m---------------------------------------------------------------------------\u001b[0m",
            "\u001b[0;31mNameError\u001b[0m                                 Traceback (most recent call last)",
            "\u001b[0;32m<ipython-input-12-95c729cf3eec>\u001b[0m in \u001b[0;36m<module>\u001b[0;34m()\u001b[0m\n\u001b[1;32m      1\u001b[0m \u001b[0mpred\u001b[0m \u001b[0;34m=\u001b[0m \u001b[0;34m[\u001b[0m\u001b[0;34m]\u001b[0m\u001b[0;34m\u001b[0m\u001b[0;34m\u001b[0m\u001b[0m\n\u001b[1;32m      2\u001b[0m \u001b[0;32mfor\u001b[0m \u001b[0mfeatures\u001b[0m\u001b[0;34m,\u001b[0m\u001b[0mlabels\u001b[0m \u001b[0;32min\u001b[0m \u001b[0miter\u001b[0m\u001b[0;34m(\u001b[0m\u001b[0mcontour_loader\u001b[0m\u001b[0;34m)\u001b[0m\u001b[0;34m:\u001b[0m\u001b[0;34m\u001b[0m\u001b[0;34m\u001b[0m\u001b[0m\n\u001b[0;32m----> 3\u001b[0;31m   \u001b[0mfeatures\u001b[0m \u001b[0;34m=\u001b[0m \u001b[0mfeatures\u001b[0m\u001b[0;34m.\u001b[0m\u001b[0mto\u001b[0m\u001b[0;34m(\u001b[0m\u001b[0mdevice\u001b[0m\u001b[0;34m)\u001b[0m\u001b[0;34m\u001b[0m\u001b[0;34m\u001b[0m\u001b[0m\n\u001b[0m\u001b[1;32m      4\u001b[0m   \u001b[0mlabels\u001b[0m \u001b[0;34m=\u001b[0m \u001b[0mlabels\u001b[0m\u001b[0;34m.\u001b[0m\u001b[0mto\u001b[0m\u001b[0;34m(\u001b[0m\u001b[0mdevice\u001b[0m\u001b[0;34m)\u001b[0m\u001b[0;34m\u001b[0m\u001b[0;34m\u001b[0m\u001b[0m\n\u001b[1;32m      5\u001b[0m   \u001b[0moutputs\u001b[0m \u001b[0;34m=\u001b[0m \u001b[0mmodel_ft_2\u001b[0m\u001b[0;34m(\u001b[0m\u001b[0mfeatures\u001b[0m\u001b[0;34m)\u001b[0m\u001b[0;34m\u001b[0m\u001b[0;34m\u001b[0m\u001b[0m\n",
            "\u001b[0;31mNameError\u001b[0m: name 'device' is not defined"
          ]
        }
      ]
    },
    {
      "cell_type": "code",
      "metadata": {
        "id": "fBF2-anLCDfw",
        "colab_type": "code",
        "colab": {
          "base_uri": "https://localhost:8080/",
          "height": 183
        },
        "outputId": "a8045de1-b1e8-446a-da04-43aaf4c474dd"
      },
      "source": [
        "for i in range(features.size()[0]):\n",
        "  print(classes[pred[i]])"
      ],
      "execution_count": null,
      "outputs": [
        {
          "output_type": "error",
          "ename": "IndexError",
          "evalue": "ignored",
          "traceback": [
            "\u001b[0;31m---------------------------------------------------------------------------\u001b[0m",
            "\u001b[0;31mIndexError\u001b[0m                                Traceback (most recent call last)",
            "\u001b[0;32m<ipython-input-13-22a6420e6dcd>\u001b[0m in \u001b[0;36m<module>\u001b[0;34m()\u001b[0m\n\u001b[1;32m      1\u001b[0m \u001b[0;32mfor\u001b[0m \u001b[0mi\u001b[0m \u001b[0;32min\u001b[0m \u001b[0mrange\u001b[0m\u001b[0;34m(\u001b[0m\u001b[0mfeatures\u001b[0m\u001b[0;34m.\u001b[0m\u001b[0msize\u001b[0m\u001b[0;34m(\u001b[0m\u001b[0;34m)\u001b[0m\u001b[0;34m[\u001b[0m\u001b[0;36m0\u001b[0m\u001b[0;34m]\u001b[0m\u001b[0;34m)\u001b[0m\u001b[0;34m:\u001b[0m\u001b[0;34m\u001b[0m\u001b[0;34m\u001b[0m\u001b[0m\n\u001b[0;32m----> 2\u001b[0;31m   \u001b[0mprint\u001b[0m\u001b[0;34m(\u001b[0m\u001b[0mclasses\u001b[0m\u001b[0;34m[\u001b[0m\u001b[0mpred\u001b[0m\u001b[0;34m[\u001b[0m\u001b[0mi\u001b[0m\u001b[0;34m]\u001b[0m\u001b[0;34m]\u001b[0m\u001b[0;34m)\u001b[0m\u001b[0;34m\u001b[0m\u001b[0;34m\u001b[0m\u001b[0m\n\u001b[0m",
            "\u001b[0;31mIndexError\u001b[0m: list index out of range"
          ]
        }
      ]
    },
    {
      "cell_type": "code",
      "metadata": {
        "id": "igsg_SWicWH4",
        "colab_type": "code",
        "colab": {}
      },
      "source": [
        "j=0\n",
        "saveChar = []\n",
        "checkSpecial = False\n",
        "\n",
        "y_avg = sum(y_list) / len(y_list)\n",
        "array_fraction=[0]\n",
        "for i in range(0,len(x_list)): \n",
        "  if (classes[pred[i]]=='-'):\n",
        "    print('character ',str(i), 'is -')\n",
        "  elif (sorted_array[i][1] <= y_avg-50):\n",
        "    print('character ',str(i),'is num')\n",
        "    array_fraction.append(1)\n",
        "  elif (sorted_array[i][1] + sorted_array[i][3]>= y_avg+50):\n",
        "    print('character ',str(i),'is denom')\n",
        "    array_fraction.append(2)\n",
        "print(array_fraction)\n",
        "\n",
        "while j < features.size()[0]:\n",
        "    #### FRACTION ####   \n",
        "    area_height = height/5\n",
        "    if ((classes[pred[j]] == '-') and (y_avg-area_height<=sorted_array[j][1]<=y_avg+area_height) and (sorted_array[j+1][1] <= y_avg+area_height) and (sorted_array[j+2][1]+sorted_array[j+2][3] >= y_avg-area_height)):\n",
        "      saveChar.append('\\\\frac{')\n",
        "      checkSpecial = True      \n",
        "      count_fraction=0\n",
        "      for num in range(j+1,len(array_fraction)):\n",
        "        if (array_fraction[num] == 1):\n",
        "          saveChar.append(classes[pred[num]])\n",
        "          count_fraction+=1\n",
        "      saveChar.append('}{')\n",
        "      for denom in range(j+1,len(array_fraction)):\n",
        "        if (array_fraction[denom] == 2):\n",
        "          saveChar.append(classes[pred[denom]])\n",
        "          count_fraction+=1\n",
        "      saveChar.append('}')\n",
        "      j=j+count_fraction+1\n",
        "      continue\n",
        "    if checkSpecial == True:\n",
        "      saveChar.append(classes[pred[j]])\n",
        "    j +=1\n",
        "print(saveChar) #the double \\\\ is fine, needed to put into LaTeX\n",
        "saveChar=[]"
      ],
      "execution_count": null,
      "outputs": []
    },
    {
      "cell_type": "code",
      "metadata": {
        "id": "UFWT0eLXwuws",
        "colab_type": "code",
        "colab": {}
      },
      "source": [
        "#Step 5 (but also optional)\n",
        "contour_dataset = torchvision.datasets.ImageFolder(root=crop_dir,transform=data_transform)\n",
        "contour_loader = torch.utils.data.DataLoader(contour_dataset,batch_size=32)\n",
        "\n",
        "# obtain one batch of training images\n",
        "dataiter = iter(contour_loader)\n",
        "images, labels = dataiter.next()\n",
        "images = images.numpy() # convert images to numpy for display\n",
        "\n",
        "# plot the images in the batch, along with the corresponding labels\n",
        "fig = plt.figure(figsize=(25, 4))\n",
        "for idx in np.arange(len(x_list)):\n",
        "    ax = fig.add_subplot(2, 20/2, idx+1, xticks=[], yticks=[])\n",
        "    plt.imshow(np.transpose(images[idx], (1, 2, 0)))\n",
        "    ax.set_title(classes[pred[idx]])"
      ],
      "execution_count": null,
      "outputs": []
    },
    {
      "cell_type": "markdown",
      "metadata": {
        "id": "NJbumC_0Ytu_",
        "colab_type": "text"
      },
      "source": [
        "Check for the start of special characters.\n",
        "NOTE:If last chracter is a special character this code will not work"
      ]
    },
    {
      "cell_type": "code",
      "metadata": {
        "colab_type": "code",
        "id": "8pc0jRJIYrUZ",
        "colab": {
          "base_uri": "https://localhost:8080/",
          "height": 235
        },
        "outputId": "96164ea2-675f-4801-dbd6-db8ac18cd163"
      },
      "source": [
        "\n",
        "index = []\n",
        "\n",
        "for i in range(features.size()[0]):\n",
        "  # looking for equal sign\n",
        "  if(classes[pred[i]]=='-'):\n",
        "    index.append(i+1)\n",
        "  # looking for pm\n",
        "  if(classes[pred[i]]=='+'):\n",
        "    index.append(i+1)\n",
        "  # looking for LE character\n",
        "  if(classes[pred[i]]=='\\lt'):\n",
        "    index.append(i+1)\n",
        "  # looking for GE symbol\n",
        "  if(classes[pred[i]]=='\\geq'):\n",
        "    index.append(i+1)\n",
        "  # looking for exclamation mark\n",
        "  if(classes[pred[i]]=='\\prime'):\n",
        "    index.append(i+1)\n",
        " "
      ],
      "execution_count": null,
      "outputs": [
        {
          "output_type": "error",
          "ename": "NameError",
          "evalue": "ignored",
          "traceback": [
            "\u001b[0;31m---------------------------------------------------------------------------\u001b[0m",
            "\u001b[0;31mNameError\u001b[0m                                 Traceback (most recent call last)",
            "\u001b[0;32m<ipython-input-7-ed82f14c9f9c>\u001b[0m in \u001b[0;36m<module>\u001b[0;34m()\u001b[0m\n\u001b[1;32m      2\u001b[0m \u001b[0mindex\u001b[0m \u001b[0;34m=\u001b[0m \u001b[0;34m[\u001b[0m\u001b[0;34m]\u001b[0m\u001b[0;34m\u001b[0m\u001b[0;34m\u001b[0m\u001b[0m\n\u001b[1;32m      3\u001b[0m \u001b[0;34m\u001b[0m\u001b[0m\n\u001b[0;32m----> 4\u001b[0;31m \u001b[0;32mfor\u001b[0m \u001b[0mi\u001b[0m \u001b[0;32min\u001b[0m \u001b[0mrange\u001b[0m\u001b[0;34m(\u001b[0m\u001b[0mfeatures\u001b[0m\u001b[0;34m.\u001b[0m\u001b[0msize\u001b[0m\u001b[0;34m(\u001b[0m\u001b[0;34m)\u001b[0m\u001b[0;34m[\u001b[0m\u001b[0;36m0\u001b[0m\u001b[0;34m]\u001b[0m\u001b[0;34m)\u001b[0m\u001b[0;34m:\u001b[0m\u001b[0;34m\u001b[0m\u001b[0;34m\u001b[0m\u001b[0m\n\u001b[0m\u001b[1;32m      5\u001b[0m   \u001b[0;31m# looking for equal sign\u001b[0m\u001b[0;34m\u001b[0m\u001b[0;34m\u001b[0m\u001b[0;34m\u001b[0m\u001b[0m\n\u001b[1;32m      6\u001b[0m   \u001b[0;32mif\u001b[0m\u001b[0;34m(\u001b[0m\u001b[0mclasses\u001b[0m\u001b[0;34m[\u001b[0m\u001b[0mpred\u001b[0m\u001b[0;34m[\u001b[0m\u001b[0mi\u001b[0m\u001b[0;34m]\u001b[0m\u001b[0;34m]\u001b[0m\u001b[0;34m==\u001b[0m\u001b[0;34m'-'\u001b[0m\u001b[0;34m)\u001b[0m\u001b[0;34m:\u001b[0m\u001b[0;34m\u001b[0m\u001b[0;34m\u001b[0m\u001b[0m\n",
            "\u001b[0;31mNameError\u001b[0m: name 'features' is not defined"
          ]
        }
      ]
    },
    {
      "cell_type": "markdown",
      "metadata": {
        "id": "lrYRGHRZY4mN",
        "colab_type": "text"
      },
      "source": [
        "Extend bounding box and delete extra bounding boxes. Save cropped images that end with PC."
      ]
    },
    {
      "cell_type": "code",
      "metadata": {
        "id": "A1brxXREZryM",
        "colab_type": "code",
        "colab": {}
      },
      "source": [
        "def index_of(val, in_list):\n",
        "    try:\n",
        "        return in_list.index(val)\n",
        "    except ValueError:\n",
        "        return -1 "
      ],
      "execution_count": null,
      "outputs": []
    },
    {
      "cell_type": "code",
      "metadata": {
        "colab_type": "code",
        "id": "KrCDn9QnY2Er",
        "colab": {
          "base_uri": "https://localhost:8080/",
          "height": 235
        },
        "outputId": "76c8ee54-0d08-4354-81a4-9b3a7ef2a756"
      },
      "source": [
        "import cv2\n",
        "import numpy as np\n",
        "import os\n",
        "import cv2\n",
        "import numpy as np\n",
        "import matplotlib.pyplot as plt\n",
        "from google.colab.patches import cv2_imshow\n",
        "folder =r'/content/drive/My Drive/aps360/fullEquationDataset/FinalPhotos'\n",
        "#directory =r'/content/drive/My Drive/aps360/fullEquationDataset/FinalPhotos/fraction.jpg'\n",
        "crop =  r'/content/drive/My Drive/aps360/crop/alpha_geq_PC/alpha_geq_PC1'\n",
        "\n",
        "#directory =r'/content/drive/My Drive/aps360/fullEquationDataset/FinalPhotos/mu_not_equal.jpg'\n",
        "#crop =  r'/content/drive/My Drive/aps360/crop/fraction/fraction1'\n",
        "\n",
        "os.chdir(folder) \n",
        "\n",
        "image = cv2.imread(directory)\n",
        "#plt.imshow(image, cmap='gray')\n",
        "original = image.copy()\n",
        "# convert image to gray from RGB\n",
        "gray = cv2.cvtColor(image, cv2.COLOR_BGR2GRAY)\n",
        "# blur image \n",
        "blured = cv2.blur(gray, (15,15), 0)   \n",
        "image = cv2.imread(directory)\n",
        "#plt.imshow(image, cmap='gray')\n",
        "original = image.copy()\n",
        "gray = cv2.cvtColor(image, cv2.COLOR_BGR2GRAY)\n",
        "blured = cv2.blur(gray, (5,5), 0)   \n",
        "img_thresh = cv2.adaptiveThreshold(blured, 255, cv2.ADAPTIVE_THRESH_GAUSSIAN_C, cv2.THRESH_BINARY_INV, 11, 2)\n",
        "rect_kernel = cv2.getStructuringElement(cv2.MORPH_RECT, (10, 10))\n",
        "thresh = cv2.morphologyEx(img_thresh, cv2.MORPH_GRADIENT, rect_kernel)\n",
        "height,width,channels = image.shape\n",
        "\n",
        "ROI_number = 0\n",
        "cnts = cv2.findContours(thresh, cv2.RETR_EXTERNAL, cv2.CHAIN_APPROX_SIMPLE)\n",
        "\n",
        "cnts = cnts[0] if len(cnts) == 2 else cnts[1]\n",
        "idx = 0\n",
        "sorted_ctrs = sorted(cnts, key=lambda cnts: cv2.boundingRect(cnts))\n",
        "coods = []\n",
        "value = []\n",
        "x_list=[]\n",
        "y_list=[]\n",
        "h_list=[]\n",
        "w_list=[]\n",
        "for c in sorted_ctrs:\n",
        "    idx += 1\n",
        "    x,y,w,h = cv2.boundingRect(c)\n",
        "    if(index_of(idx,index)!=-1):\n",
        "      y = y - 75\n",
        "      coods+=(x,y,w,h+100)\n",
        "      value.append(int(idx)-1)\n",
        "    else:\n",
        "      coods+=cv2.boundingRect(c)\n",
        "\n",
        "# code to turn the list of sorted x,y,w,h into an array\n",
        "# equilavent to sorted_array\n",
        "coods = np.array(coods)\n",
        "first_dim = len(coods)/4\n",
        "coods = coods.reshape(int(first_dim),4)\n",
        "s = len(value)\n",
        "delInd = []\n",
        "\n",
        "# Delete extra bounding boxes\n",
        "for j in range(s):\n",
        "  i = 0\n",
        "  for c in iter(coods):\n",
        "    if(i==value[j] and coods[i+1][0]<=c[0]+30):\n",
        "      delInd.append(i+1)\n",
        "    i+=1\n",
        "coods = np.delete(coods,(delInd),0)\n",
        "idx = 0\n",
        "\n",
        "os.chdir(crop) \n",
        "# Save ROI\n",
        "for c in coods:\n",
        "  x_list.append(x)\n",
        "  y_list.append(y)\n",
        "  w_list.append(w)\n",
        "  h_list.append(h)\n",
        "  idx+=1\n",
        "  x = c[0]\n",
        "  y = c[1]\n",
        "  w = c[2]\n",
        "  h = c[3]\n",
        "  cv2.rectangle(image, (x, y), (x + w, y + h), (36,255,12), 2)\n",
        "  ROI = original[y:y+h, x:x+w]\n",
        "  saveChar=[]\n",
        "  if (len(saveChar)==0):\n",
        "    print(\"save image\")\n",
        "    cv2.imwrite(str(idx) + '.jpg', ROI)\n",
        "print(coods)\n",
        "\n",
        "plt.imshow(image,cmap='gray')\n",
        "cv2.waitKey()"
      ],
      "execution_count": null,
      "outputs": [
        {
          "output_type": "error",
          "ename": "NameError",
          "evalue": "ignored",
          "traceback": [
            "\u001b[0;31m---------------------------------------------------------------------------\u001b[0m",
            "\u001b[0;31mNameError\u001b[0m                                 Traceback (most recent call last)",
            "\u001b[0;32m<ipython-input-6-ca17b923c54c>\u001b[0m in \u001b[0;36m<module>\u001b[0;34m()\u001b[0m\n\u001b[1;32m     47\u001b[0m     \u001b[0midx\u001b[0m \u001b[0;34m+=\u001b[0m \u001b[0;36m1\u001b[0m\u001b[0;34m\u001b[0m\u001b[0;34m\u001b[0m\u001b[0m\n\u001b[1;32m     48\u001b[0m     \u001b[0mx\u001b[0m\u001b[0;34m,\u001b[0m\u001b[0my\u001b[0m\u001b[0;34m,\u001b[0m\u001b[0mw\u001b[0m\u001b[0;34m,\u001b[0m\u001b[0mh\u001b[0m \u001b[0;34m=\u001b[0m \u001b[0mcv2\u001b[0m\u001b[0;34m.\u001b[0m\u001b[0mboundingRect\u001b[0m\u001b[0;34m(\u001b[0m\u001b[0mc\u001b[0m\u001b[0;34m)\u001b[0m\u001b[0;34m\u001b[0m\u001b[0;34m\u001b[0m\u001b[0m\n\u001b[0;32m---> 49\u001b[0;31m     \u001b[0;32mif\u001b[0m\u001b[0;34m(\u001b[0m\u001b[0mindex_of\u001b[0m\u001b[0;34m(\u001b[0m\u001b[0midx\u001b[0m\u001b[0;34m,\u001b[0m\u001b[0mindex\u001b[0m\u001b[0;34m)\u001b[0m\u001b[0;34m!=\u001b[0m\u001b[0;34m-\u001b[0m\u001b[0;36m1\u001b[0m\u001b[0;34m)\u001b[0m\u001b[0;34m:\u001b[0m\u001b[0;34m\u001b[0m\u001b[0;34m\u001b[0m\u001b[0m\n\u001b[0m\u001b[1;32m     50\u001b[0m       \u001b[0my\u001b[0m \u001b[0;34m=\u001b[0m \u001b[0my\u001b[0m \u001b[0;34m-\u001b[0m \u001b[0;36m75\u001b[0m\u001b[0;34m\u001b[0m\u001b[0;34m\u001b[0m\u001b[0m\n\u001b[1;32m     51\u001b[0m       \u001b[0mcoods\u001b[0m\u001b[0;34m+=\u001b[0m\u001b[0;34m(\u001b[0m\u001b[0mx\u001b[0m\u001b[0;34m,\u001b[0m\u001b[0my\u001b[0m\u001b[0;34m,\u001b[0m\u001b[0mw\u001b[0m\u001b[0;34m,\u001b[0m\u001b[0mh\u001b[0m\u001b[0;34m+\u001b[0m\u001b[0;36m100\u001b[0m\u001b[0;34m)\u001b[0m\u001b[0;34m\u001b[0m\u001b[0;34m\u001b[0m\u001b[0m\n",
            "\u001b[0;31mNameError\u001b[0m: name 'index' is not defined"
          ]
        }
      ]
    },
    {
      "cell_type": "markdown",
      "metadata": {
        "id": "siyd8_u5WNIf",
        "colab_type": "text"
      },
      "source": [
        "Reclassify new cropped images, that have extended bounding boxes"
      ]
    },
    {
      "cell_type": "code",
      "metadata": {
        "id": "NhedH-qCZR_V",
        "colab_type": "code",
        "colab": {}
      },
      "source": [
        "\n",
        "crop =  r'/content/drive/My Drive/aps360/crop/alpha_geq_PC'\n",
        "data_transform = transforms.Compose([SquarePad(), transforms.RandomResizedCrop(45, scale=(1,1)),transforms.ToTensor(),transforms.Normalize((0.5, 0.5, 0.5), (0.5, 0.5, 0.5))])\n",
        "\n",
        "\n",
        "contour_dataset = torchvision.datasets.ImageFolder(root=crop,transform=data_transform)\n",
        "contour_loader = torch.utils.data.DataLoader(contour_dataset,batch_size=64,shuffle = False)"
      ],
      "execution_count": null,
      "outputs": []
    },
    {
      "cell_type": "code",
      "metadata": {
        "id": "1KYQikZXZWYx",
        "colab_type": "code",
        "colab": {}
      },
      "source": [
        "pred = []\n",
        "for features,labels in iter(contour_loader):\n",
        "  features = features.to(device)\n",
        "  labels = labels.to(device)\n",
        "  outputs = model_ft_2(features)\n",
        "  pred = outputs.max(1, keepdim=True)[1]"
      ],
      "execution_count": null,
      "outputs": []
    },
    {
      "cell_type": "code",
      "metadata": {
        "id": "t6Vzg0iFx2xf",
        "colab_type": "code",
        "colab": {
          "base_uri": "https://localhost:8080/",
          "height": 87
        },
        "outputId": "f1106631-8366-46e3-cdad-38be60205ead"
      },
      "source": [
        "for i in range(features.size()[0]):\n",
        "  print(classes[pred[i]])"
      ],
      "execution_count": null,
      "outputs": [
        {
          "output_type": "stream",
          "text": [
            "\\alpha\n",
            "\\geq\n",
            "s\n",
            "\\beta\n"
          ],
          "name": "stdout"
        }
      ]
    },
    {
      "cell_type": "code",
      "metadata": {
        "id": "_8YRZLzAbuLz",
        "colab_type": "code",
        "colab": {}
      },
      "source": [
        "#Step 5 (but also optional)\n",
        "contour_dataset = torchvision.datasets.ImageFolder(root=crop,transform=data_transform)\n",
        "contour_loader = torch.utils.data.DataLoader(contour_dataset,batch_size=32)\n",
        "\n",
        "# obtain one batch of training images\n",
        "dataiter = iter(contour_loader)\n",
        "images, labels = dataiter.next()\n",
        "images = images.numpy() # convert images to numpy for display\n",
        "\n",
        "# plot the images in the batch, along with the corresponding labels\n",
        "fig = plt.figure(figsize=(25, 4))\n",
        "for idx in np.arange(features.size()[0]):\n",
        "    ax = fig.add_subplot(2, 20/2, idx+1, xticks=[], yticks=[])\n",
        "    plt.imshow(np.transpose(images[idx], (1, 2, 0)))\n",
        "    ax.set_title(classes[pred[idx]])"
      ],
      "execution_count": null,
      "outputs": []
    },
    {
      "cell_type": "markdown",
      "metadata": {
        "id": "f4JSMJtBTaEV",
        "colab_type": "text"
      },
      "source": [
        "Check for trig and fractions"
      ]
    },
    {
      "cell_type": "code",
      "metadata": {
        "id": "9Kx7IiU5qfoE",
        "colab_type": "code",
        "colab": {
          "base_uri": "https://localhost:8080/",
          "height": 35
        },
        "outputId": "7f250d1e-6d00-491c-a41a-4d945e956187"
      },
      "source": [
        "saveChar=[]\n",
        "j=0\n",
        "checkSpecial = False\n",
        "\n",
        "while j < features.size()[0]:\n",
        "####TRIG####\n",
        "\n",
        "    if(j < ((features.size()[0])-3)):\n",
        "      if((classes[pred[j]] == 'c') and classes[pred[j+1]] == '0' and (classes[pred[j+2]]=='s' or classes[pred[j+2]]=='5')):\n",
        "        checkSpecial = True\n",
        "        saveChar.append(classes[92])\n",
        "        j=j+4\n",
        "        continue\n",
        "      if((classes[pred[j]] == 'T' or classes[pred[j]] == '+') and (classes[pred[j+1]] == 'a' or classes[pred[j+1]] == '\\\\alpha') and (classes[pred[j+2]]=='n' or classes[pred[j+2]]=='N')):\n",
        "        checkSpecial = True\n",
        "        saveChar.append(classes[91])\n",
        "        j=j+4\n",
        "        continue\n",
        "      if((classes[pred[j]] == 's' or classes[pred[j]] == '5') and (classes[pred[j+1]] == 'i' or classes[pred[j+1]] == '\\\\prime') and (classes[pred[j+2]]=='n' or classes[pred[j+2]]=='N')):\n",
        "        checkSpecial = True\n",
        "        saveChar.append(classes[90])\n",
        "        j=j+4\n",
        "        continue\n",
        "    if checkSpecial == True:\n",
        "      saveChar.append(classes[pred[j]])\n",
        "    j +=1\n",
        "print(saveChar) #the double \\\\ is fine, needed to put into LaTeX"
      ],
      "execution_count": null,
      "outputs": [
        {
          "output_type": "stream",
          "text": [
            "[]\n"
          ],
          "name": "stdout"
        }
      ]
    },
    {
      "cell_type": "markdown",
      "metadata": {
        "id": "Ay-N_zURguJG",
        "colab_type": "text"
      },
      "source": [
        "Neha's superscript/subscript"
      ]
    },
    {
      "cell_type": "code",
      "metadata": {
        "id": "fLMxvn9tfJin",
        "colab_type": "code",
        "colab": {}
      },
      "source": [
        "array=[0]\n",
        "x_list2 = []\n",
        "y_list2= []\n",
        "w_list2 = []\n",
        "h_list2 = []\n",
        "\n",
        "for c in coods: \n",
        "  x_list2.append(c[0])\n",
        "  y_list2.append(c[1])\n",
        "  w_list2.append(c[2])\n",
        "  h_list2.append(c[3])\n",
        "\n",
        "for i in range(len(x_list2)-1):   #0,1,2,3,...\\\n",
        "  # If there is denominator/numerators then do not check for subscripts/superscripts\n",
        "  if (len(saveChar)==0):\n",
        "    if y_list2[0]+h_list2[0]/2 > y_list2[i+1]+h_list2[i+1]:\n",
        "      print('character number ',str(i+2),' is a superscript')\n",
        "      array.append(1)\n",
        "    elif y_list2[0]+h_list2[0]/2 < y_list2[i+1]:\n",
        "      print('character number ',str(i+2),' is a subscript')\n",
        "      array.append(2)\n",
        "    else:\n",
        "      array.append(0)\n",
        "  else:\n",
        "    continue\n",
        "\n",
        "#array modifications/operations:\n",
        "dummy_array=str(array)\n",
        "\n",
        "#replace all 1, 2's with 3_super, 3_sub and vice versa for 2, 1 \n",
        "dummy_array=dummy_array.replace('1, 2','3_super, 3_sub')\n",
        "dummy_array=dummy_array.replace('2, 1','3_sub, 3_super')\n",
        "\n",
        "dummy_array=dummy_array[1:len(dummy_array)-1]\n",
        "dummy_array=dummy_array.replace(' ','')\n",
        "dummy_array=dummy_array.split(',')\n",
        "\n",
        "print('0 indicates normal, 1 indicates superscript, 2 indicates subscript, 3_super/3_sub indicates both a super/subscript on ONE base')\n",
        "\n",
        "print(dummy_array)\n",
        "\n",
        "#plt.plot(x+(w/2),y+(h/2),color='red', marker='o', linestyle='dashed',linewidth=2, markersize=3)\n",
        "plt.imshow(image,cmap='gray')\n",
        "cv2.waitKey()\n"
      ],
      "execution_count": null,
      "outputs": []
    },
    {
      "cell_type": "markdown",
      "metadata": {
        "id": "-FbBBXI_g4aF",
        "colab_type": "text"
      },
      "source": [
        "Displaying in latex and checking subscript array"
      ]
    },
    {
      "cell_type": "code",
      "metadata": {
        "id": "f-QKZJOfhYEW",
        "colab_type": "code",
        "colab": {
          "base_uri": "https://localhost:8080/",
          "height": 35
        },
        "outputId": "c29d9705-989f-42fc-bfdc-84b65959544f"
      },
      "source": [
        "savCharLength = len(saveChar)\n",
        "print(savCharLength)\n",
        "for i in range(features.size()[0]):\n",
        " if (savCharLength==0):\n",
        "    saveChar.append(classes[pred[i]])\n",
        " else:\n",
        "    continue\n"
      ],
      "execution_count": null,
      "outputs": [
        {
          "output_type": "stream",
          "text": [
            "0\n"
          ],
          "name": "stdout"
        }
      ]
    },
    {
      "cell_type": "code",
      "metadata": {
        "id": "PaMbqSGSgrFu",
        "colab_type": "code",
        "colab": {
          "base_uri": "https://localhost:8080/",
          "height": 56
        },
        "outputId": "9dced680-7e3d-4222-ecc0-0921c70498a6"
      },
      "source": [
        "\n",
        "totalString=\" \"\n",
        "# if fraction type do not check for subscript\n",
        "if (savCharLength!=0):\n",
        "  for i in range(0, savCharLength):\n",
        "      totalString = totalString + saveChar[i] + \" \"\n",
        "else:\n",
        "  for i in range(0, len(saveChar)):\n",
        "    # check for normal\n",
        "    if(dummy_array[i]=='0'):\n",
        "      totalString = totalString + saveChar[i] + \" \"\n",
        "    # check for superscript\n",
        "    if(dummy_array[i]=='1' or dummy_array[i]=='3_super'):\n",
        "      totalString = totalString + '^'+saveChar[i] + \" \"    \n",
        "    # check for subscript\n",
        "    if(dummy_array[i]=='2'or dummy_array[i]=='3_sub'):\n",
        "      totalString = totalString + '_'+saveChar[i] + \" \"  \n",
        "     \n",
        "\n",
        "print(totalString)\n",
        "\n",
        "from IPython.display import HTML, Math\n",
        "def latexify(e):\n",
        "  display(HTML(\"<script src='https://cdnjs.cloudflare.com/ajax/libs/mathjax/2.7.3/\"\n",
        "         \"latest.js?config=default'></script>\"))\n",
        "  return Math(e)\n",
        "\n",
        "display(latexify(totalString))\n",
        "#display(latexify(\"5^6\"))"
      ],
      "execution_count": null,
      "outputs": [
        {
          "output_type": "stream",
          "text": [
            " \\alpha \\geq 5 \\beta \n"
          ],
          "name": "stdout"
        },
        {
          "output_type": "display_data",
          "data": {
            "text/html": [
              "<script src='https://cdnjs.cloudflare.com/ajax/libs/mathjax/2.7.3/latest.js?config=default'></script>"
            ],
            "text/plain": [
              "<IPython.core.display.HTML object>"
            ]
          },
          "metadata": {
            "tags": []
          }
        },
        {
          "output_type": "display_data",
          "data": {
            "text/latex": "$$ \\alpha \\geq 5 \\beta $$",
            "text/plain": [
              "<IPython.core.display.Math object>"
            ]
          },
          "metadata": {
            "tags": []
          }
        }
      ]
    }
  ]
}